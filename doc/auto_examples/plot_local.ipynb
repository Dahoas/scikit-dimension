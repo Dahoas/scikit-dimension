{
  "cells": [
    {
      "cell_type": "code",
      "execution_count": null,
      "metadata": {
        "collapsed": false
      },
      "outputs": [],
      "source": [
        "%matplotlib inline"
      ]
    },
    {
      "cell_type": "markdown",
      "metadata": {},
      "source": [
        "\n# Local ID example\n\n"
      ]
    },
    {
      "cell_type": "code",
      "execution_count": null,
      "metadata": {
        "collapsed": false
      },
      "outputs": [],
      "source": [
        "from skdim import local_id, asPointwise\nimport numpy as np\n\nX = np.random.random((1000, 10))\n\n\n# one neighborhood\ness = local_id.ESS().fit(X)\nfishers = local_id.FisherS().fit(X)\nmom = local_id.MOM().fit(X)\nmind_ml = local_id.MiND_ML().fit(X)\ntle = local_id.TLE().fit(X)\nlpca = local_id.lPCA().fit(X)\n\n\n# all datapoint neighborhoods\npw_id = asPointwise(X, local_id.FisherS(),\n                    n_neighbors=100, n_jobs=1)"
      ]
    }
  ],
  "metadata": {
    "kernelspec": {
      "display_name": "Python 3",
      "language": "python",
      "name": "python3"
    },
    "language_info": {
      "codemirror_mode": {
        "name": "ipython",
        "version": 3
      },
      "file_extension": ".py",
      "mimetype": "text/x-python",
      "name": "python",
      "nbconvert_exporter": "python",
      "pygments_lexer": "ipython3",
      "version": "3.8.2"
    }
  },
  "nbformat": 4,
  "nbformat_minor": 0
}