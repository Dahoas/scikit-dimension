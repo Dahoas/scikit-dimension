{
  "cells": [
    {
      "cell_type": "code",
      "execution_count": null,
      "metadata": {
        "collapsed": false
      },
      "outputs": [],
      "source": [
        "%matplotlib inline"
      ]
    },
    {
      "cell_type": "markdown",
      "metadata": {},
      "source": [
        "\n# Global ID example\n\n"
      ]
    },
    {
      "cell_type": "code",
      "execution_count": null,
      "metadata": {
        "collapsed": false
      },
      "outputs": [],
      "source": [
        "from skdim import gid\nimport numpy as np\n\nX = np.random.random((1000, 10))\n\ncorrint = gid.CorrInt().fit(X).dimension_\ndanco = gid.DANCo().fit(X).dimension_\nknn = gid.KNN().fit(X).dimension_\nmada = gid.Mada().fit(X).dimension_\nmle = gid.MLE().fit(X).dimension_\ntwonn = gid.TwoNN().fit(X).dimension_"
      ]
    }
  ],
  "metadata": {
    "kernelspec": {
      "display_name": "Python 3",
      "language": "python",
      "name": "python3"
    },
    "language_info": {
      "codemirror_mode": {
        "name": "ipython",
        "version": 3
      },
      "file_extension": ".py",
      "mimetype": "text/x-python",
      "name": "python",
      "nbconvert_exporter": "python",
      "pygments_lexer": "ipython3",
      "version": "3.7.4"
    }
  },
  "nbformat": 4,
  "nbformat_minor": 0
}