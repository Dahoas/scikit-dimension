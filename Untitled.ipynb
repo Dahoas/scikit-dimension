{
 "cells": [
  {
   "cell_type": "code",
   "execution_count": 22,
   "metadata": {},
   "outputs": [],
   "source": [
    "%load_ext rpy2.ipython"
   ]
  },
  {
   "cell_type": "code",
   "execution_count": 2,
   "metadata": {},
   "outputs": [],
   "source": [
    "%load_ext autoreload"
   ]
  },
  {
   "cell_type": "code",
   "execution_count": 3,
   "metadata": {},
   "outputs": [],
   "source": [
    "%autoreload 2"
   ]
  },
  {
   "cell_type": "code",
   "execution_count": 1,
   "metadata": {},
   "outputs": [],
   "source": [
    "from skdim import global_id\n",
    "from skdim import local_id\n",
    "from _commonfuncs import get_nn\n",
    "import sklearn.utils.estimator_checks as sktest\n",
    "\n",
    "import scipy\n",
    "import numpy as np\n",
    "import rpy2\n",
    "import rpy2.robjects as ro\n",
    "import rpy2.robjects.numpy2ri\n",
    "import rpy2.robjects.packages as rpackages\n",
    "\n",
    "rpy2.robjects.numpy2ri.activate()\n",
    "utils = rpackages.importr('utils')\n",
    "#utils.install_packages('intrinsicDimension')\n",
    "#utils.install_packages('ider')\n",
    "intdimr = rpackages.importr('intrinsicDimension')\n",
    "ider   = rpackages.importr('ider')\n",
    "r_base = rpackages.importr('base')"
   ]
  },
  {
   "cell_type": "code",
   "execution_count": 5,
   "metadata": {},
   "outputs": [],
   "source": [
    "data=np.random.random((500,10))"
   ]
  },
  {
   "cell_type": "code",
   "execution_count": 259,
   "metadata": {},
   "outputs": [
    {
     "name": "stderr",
     "output_type": "stream",
     "text": [
      "R[write to console]: Computing DANCo calibration data for N = 500, k = 10 for dimensions 1 to 10\n",
      "\n"
     ]
    }
   ],
   "source": [
    "res = intdimr.pcaLocalDimEst(data,ver='FO')\n",
    "r_pca = dict(zip(res.names,[np.array(i) for i in res]))\n",
    "\n",
    "res = intdimr.dancoDimEst(data,k=10,D=10)\n",
    "r_danco = dict(zip(res.names,[np.array(i) for i in res]))\n",
    "\n",
    "res = intdimr.knnDimEst(data,k=10,ps=np.arange(11,50),M=5,gamma=2)\n",
    "r_knn = dict(zip(res.names,[np.array(i) for i in res]))\n",
    "\n",
    "res = intdimr.maxLikGlobalDimEst(data,k=20)\n",
    "r_gmle = dict(zip(res.names,[np.array(i) for i in res]))\n",
    "\n",
    "res = intdimr.maxLikLocalDimEst(data)\n",
    "r_lmle = dict(zip(res.names,[np.array(i) for i in res]))\n",
    "\n",
    "res = intdimr.maxLikPointwiseDimEst(data,k=20)\n",
    "r_pmle = np.array([i[0] for i in res])\n",
    "\n",
    "res = intdimr.pcaOtpmPointwiseDimEst(data,N=50)\n",
    "r_pcaOtpm = [np.array([i[0] for i in res]), np.array([i[1] for i in res])]\n",
    "\n",
    "\n",
    "r_corint = np.array(ider.corint(data,k1=10,k2=20))\n",
    "r_mada = np.array(ider.mada(data,local=True,k=20))"
   ]
  },
  {
   "cell_type": "code",
   "execution_count": 397,
   "metadata": {
    "collapsed": true,
    "jupyter": {
     "outputs_hidden": true
    }
   },
   "outputs": [
    {
     "ename": "KeyboardInterrupt",
     "evalue": "",
     "output_type": "error",
     "traceback": [
      "\u001b[0;31m---------------------------------------------------------------------------\u001b[0m",
      "\u001b[0;31mKeyboardInterrupt\u001b[0m                         Traceback (most recent call last)",
      "\u001b[0;32m<ipython-input-397-5396ece3da0d>\u001b[0m in \u001b[0;36m<module>\u001b[0;34m\u001b[0m\n\u001b[1;32m      1\u001b[0m \u001b[0mcorint\u001b[0m \u001b[0;34m=\u001b[0m \u001b[0mglobal_id\u001b[0m\u001b[0;34m.\u001b[0m\u001b[0mCorrInt\u001b[0m\u001b[0;34m(\u001b[0m\u001b[0;34m)\u001b[0m\u001b[0;34m.\u001b[0m\u001b[0mfit\u001b[0m\u001b[0;34m(\u001b[0m\u001b[0mdata\u001b[0m\u001b[0;34m)\u001b[0m\u001b[0;34m\u001b[0m\u001b[0;34m\u001b[0m\u001b[0m\n\u001b[0;32m----> 2\u001b[0;31m \u001b[0mdanco\u001b[0m \u001b[0;34m=\u001b[0m \u001b[0mglobal_id\u001b[0m\u001b[0;34m.\u001b[0m\u001b[0mDANCo\u001b[0m\u001b[0;34m(\u001b[0m\u001b[0;34m)\u001b[0m\u001b[0;34m.\u001b[0m\u001b[0mfit\u001b[0m\u001b[0;34m(\u001b[0m\u001b[0mdata\u001b[0m\u001b[0;34m)\u001b[0m\u001b[0;34m\u001b[0m\u001b[0;34m\u001b[0m\u001b[0m\n\u001b[0m\u001b[1;32m      3\u001b[0m \u001b[0mknn\u001b[0m \u001b[0;34m=\u001b[0m \u001b[0mglobal_id\u001b[0m\u001b[0;34m.\u001b[0m\u001b[0mKNN\u001b[0m\u001b[0;34m(\u001b[0m\u001b[0;34m)\u001b[0m\u001b[0;34m.\u001b[0m\u001b[0mfit\u001b[0m\u001b[0;34m(\u001b[0m\u001b[0mdata\u001b[0m\u001b[0;34m)\u001b[0m\u001b[0;34m\u001b[0m\u001b[0;34m\u001b[0m\u001b[0m\n\u001b[1;32m      4\u001b[0m \u001b[0mmada\u001b[0m \u001b[0;34m=\u001b[0m \u001b[0mglobal_id\u001b[0m\u001b[0;34m.\u001b[0m\u001b[0mMada\u001b[0m\u001b[0;34m(\u001b[0m\u001b[0mlocal\u001b[0m\u001b[0;34m=\u001b[0m\u001b[0;32mTrue\u001b[0m\u001b[0;34m,\u001b[0m\u001b[0mk\u001b[0m\u001b[0;34m=\u001b[0m\u001b[0;36m20\u001b[0m\u001b[0;34m)\u001b[0m\u001b[0;34m.\u001b[0m\u001b[0mfit\u001b[0m\u001b[0;34m(\u001b[0m\u001b[0mdata\u001b[0m\u001b[0;34m)\u001b[0m\u001b[0;34m\u001b[0m\u001b[0;34m\u001b[0m\u001b[0m\n\u001b[1;32m      5\u001b[0m \u001b[0mtwonn\u001b[0m \u001b[0;34m=\u001b[0m \u001b[0mglobal_id\u001b[0m\u001b[0;34m.\u001b[0m\u001b[0mTwoNN\u001b[0m\u001b[0;34m(\u001b[0m\u001b[0;34m)\u001b[0m\u001b[0;34m.\u001b[0m\u001b[0mfit\u001b[0m\u001b[0;34m(\u001b[0m\u001b[0mdata\u001b[0m\u001b[0;34m)\u001b[0m\u001b[0;34m\u001b[0m\u001b[0;34m\u001b[0m\u001b[0m\n",
      "\u001b[0;32m~/skcontrib-id-estimators/skdim/global_id/_DANCo.py\u001b[0m in \u001b[0;36mfit\u001b[0;34m(self, X)\u001b[0m\n\u001b[1;32m     53\u001b[0m     \u001b[0;34m-\u001b[0m\u001b[0;34m-\u001b[0m\u001b[0;34m-\u001b[0m\u001b[0;34m-\u001b[0m\u001b[0;34m-\u001b[0m\u001b[0;34m-\u001b[0m\u001b[0;34m-\u001b[0m\u001b[0;34m-\u001b[0m\u001b[0;34m-\u001b[0m\u001b[0;34m-\u001b[0m\u001b[0;34m\u001b[0m\u001b[0;34m\u001b[0m\u001b[0m\n\u001b[1;32m     54\u001b[0m     \u001b[0mReferences\u001b[0m\u001b[0;34m\u001b[0m\u001b[0;34m\u001b[0m\u001b[0m\n\u001b[0;32m---> 55\u001b[0;31m \u001b[0;34m\u001b[0m\u001b[0m\n\u001b[0m\u001b[1;32m     56\u001b[0m     \u001b[0mCeruti\u001b[0m\u001b[0;34m,\u001b[0m \u001b[0mC\u001b[0m\u001b[0;34m.\u001b[0m \u001b[0met\u001b[0m \u001b[0mal\u001b[0m\u001b[0;34m.\u001b[0m \u001b[0;34m(\u001b[0m\u001b[0;36m2012\u001b[0m\u001b[0;34m)\u001b[0m \u001b[0mDANCo\u001b[0m\u001b[0;34m:\u001b[0m \u001b[0mDimensionality\u001b[0m \u001b[0;32mfrom\u001b[0m \u001b[0mAngle\u001b[0m \u001b[0;32mand\u001b[0m \u001b[0mNorm\u001b[0m \u001b[0mConcentration\u001b[0m\u001b[0;34m.\u001b[0m \u001b[0marXiv\u001b[0m \u001b[0mpreprint\u001b[0m \u001b[0;36m1206.3881\u001b[0m\u001b[0;34m.\u001b[0m\u001b[0;34m\u001b[0m\u001b[0;34m\u001b[0m\u001b[0m\n\u001b[1;32m     57\u001b[0m \u001b[0;34m\u001b[0m\u001b[0m\n",
      "\u001b[0;32m~/skcontrib-id-estimators/skdim/global_id/_DANCo.py\u001b[0m in \u001b[0;36m_dancoDimEst\u001b[0;34m(self, X)\u001b[0m\n\u001b[1;32m    264\u001b[0m         \u001b[0mnocal\u001b[0m \u001b[0;34m=\u001b[0m \u001b[0mself\u001b[0m\u001b[0;34m.\u001b[0m\u001b[0m_dancoDimEstNoCalibration\u001b[0m\u001b[0;34m(\u001b[0m\u001b[0mX\u001b[0m\u001b[0;34m,\u001b[0m \u001b[0mself\u001b[0m\u001b[0;34m.\u001b[0m\u001b[0mD\u001b[0m\u001b[0;34m)\u001b[0m\u001b[0;34m\u001b[0m\u001b[0;34m\u001b[0m\u001b[0m\n\u001b[1;32m    265\u001b[0m         \u001b[0;32mif\u001b[0m \u001b[0many\u001b[0m\u001b[0;34m(\u001b[0m\u001b[0mnp\u001b[0m\u001b[0;34m.\u001b[0m\u001b[0misnan\u001b[0m\u001b[0;34m(\u001b[0m\u001b[0mval\u001b[0m\u001b[0;34m)\u001b[0m \u001b[0;32mfor\u001b[0m \u001b[0mval\u001b[0m \u001b[0;32min\u001b[0m \u001b[0mnocal\u001b[0m\u001b[0;34m.\u001b[0m\u001b[0mvalues\u001b[0m\u001b[0;34m(\u001b[0m\u001b[0;34m)\u001b[0m\u001b[0;34m)\u001b[0m\u001b[0;34m:\u001b[0m\u001b[0;34m\u001b[0m\u001b[0;34m\u001b[0m\u001b[0m\n\u001b[0;32m--> 266\u001b[0;31m             \u001b[0;32mreturn\u001b[0m \u001b[0mdict\u001b[0m\u001b[0;34m(\u001b[0m\u001b[0mde\u001b[0m\u001b[0;34m=\u001b[0m\u001b[0mnp\u001b[0m\u001b[0;34m.\u001b[0m\u001b[0mnan\u001b[0m\u001b[0;34m,\u001b[0m \u001b[0mkl_divergence\u001b[0m \u001b[0;34m=\u001b[0m \u001b[0mnp\u001b[0m\u001b[0;34m.\u001b[0m\u001b[0mnan\u001b[0m\u001b[0;34m,\u001b[0m \u001b[0mcalibration_data\u001b[0m\u001b[0;34m=\u001b[0m\u001b[0mcal\u001b[0m\u001b[0;34m)\u001b[0m\u001b[0;34m\u001b[0m\u001b[0;34m\u001b[0m\u001b[0m\n\u001b[0m\u001b[1;32m    267\u001b[0m \u001b[0;34m\u001b[0m\u001b[0m\n\u001b[1;32m    268\u001b[0m         \u001b[0;32mif\u001b[0m \u001b[0;34m(\u001b[0m\u001b[0mcal\u001b[0m \u001b[0;32mis\u001b[0m \u001b[0;32mNone\u001b[0m\u001b[0;34m)\u001b[0m\u001b[0;34m:\u001b[0m\u001b[0;34m\u001b[0m\u001b[0;34m\u001b[0m\u001b[0m\n",
      "\u001b[0;32m~/skcontrib-id-estimators/skdim/global_id/_DANCo.py\u001b[0m in \u001b[0;36m_increaseMaxDimByOne\u001b[0;34m(self, dancoCalDat)\u001b[0m\n\u001b[1;32m    197\u001b[0m     \u001b[0;32mdef\u001b[0m \u001b[0m_dancoDimEstNoCalibration\u001b[0m\u001b[0;34m(\u001b[0m\u001b[0mself\u001b[0m\u001b[0;34m,\u001b[0m \u001b[0mX\u001b[0m\u001b[0;34m,\u001b[0m \u001b[0mD\u001b[0m\u001b[0;34m,\u001b[0m \u001b[0mn_jobs\u001b[0m\u001b[0;34m=\u001b[0m\u001b[0;36m1\u001b[0m\u001b[0;34m)\u001b[0m\u001b[0;34m:\u001b[0m\u001b[0;34m\u001b[0m\u001b[0;34m\u001b[0m\u001b[0m\n\u001b[1;32m    198\u001b[0m         \u001b[0mnbh_data\u001b[0m\u001b[0;34m,\u001b[0m\u001b[0midx\u001b[0m \u001b[0;34m=\u001b[0m \u001b[0mget_nn\u001b[0m\u001b[0;34m(\u001b[0m\u001b[0mX\u001b[0m\u001b[0;34m,\u001b[0m \u001b[0mself\u001b[0m\u001b[0;34m.\u001b[0m\u001b[0mk\u001b[0m\u001b[0;34m+\u001b[0m\u001b[0;36m1\u001b[0m\u001b[0;34m,\u001b[0m \u001b[0mn_jobs\u001b[0m\u001b[0;34m=\u001b[0m\u001b[0mn_jobs\u001b[0m\u001b[0;34m)\u001b[0m\u001b[0;34m\u001b[0m\u001b[0;34m\u001b[0m\u001b[0m\n\u001b[0;32m--> 199\u001b[0;31m         \u001b[0mrhos\u001b[0m \u001b[0;34m=\u001b[0m \u001b[0mnbh_data\u001b[0m\u001b[0;34m[\u001b[0m\u001b[0;34m:\u001b[0m\u001b[0;34m,\u001b[0m\u001b[0;36m0\u001b[0m\u001b[0;34m]\u001b[0m\u001b[0;34m/\u001b[0m\u001b[0mnbh_data\u001b[0m\u001b[0;34m[\u001b[0m\u001b[0;34m:\u001b[0m\u001b[0;34m,\u001b[0m\u001b[0;34m-\u001b[0m\u001b[0;36m1\u001b[0m\u001b[0;34m]\u001b[0m\u001b[0;34m\u001b[0m\u001b[0;34m\u001b[0m\u001b[0m\n\u001b[0m\u001b[1;32m    200\u001b[0m         \u001b[0md_MIND_MLk\u001b[0m \u001b[0;34m=\u001b[0m \u001b[0mself\u001b[0m\u001b[0;34m.\u001b[0m\u001b[0m_MIND_MLk\u001b[0m\u001b[0;34m(\u001b[0m\u001b[0mrhos\u001b[0m\u001b[0;34m,\u001b[0m \u001b[0mD\u001b[0m\u001b[0;34m)\u001b[0m\u001b[0;34m\u001b[0m\u001b[0;34m\u001b[0m\u001b[0m\n\u001b[1;32m    201\u001b[0m         \u001b[0md_MIND_MLi\u001b[0m \u001b[0;34m=\u001b[0m \u001b[0mself\u001b[0m\u001b[0;34m.\u001b[0m\u001b[0m_MIND_MLi\u001b[0m\u001b[0;34m(\u001b[0m\u001b[0mrhos\u001b[0m\u001b[0;34m,\u001b[0m \u001b[0mD\u001b[0m\u001b[0;34m,\u001b[0m \u001b[0md_MIND_MLk\u001b[0m\u001b[0;34m)\u001b[0m\u001b[0;34m\u001b[0m\u001b[0;34m\u001b[0m\u001b[0m\n",
      "\u001b[0;32m~/skcontrib-id-estimators/skdim/global_id/_DANCo.py\u001b[0m in \u001b[0;36m_dancoDimEstNoCalibration\u001b[0;34m(self, X, D, n_jobs)\u001b[0m\n\u001b[1;32m    170\u001b[0m         \u001b[0;31m#if (length(pt) == 1) {\u001b[0m\u001b[0;34m\u001b[0m\u001b[0;34m\u001b[0m\u001b[0;34m\u001b[0m\u001b[0m\n\u001b[1;32m    171\u001b[0m         \u001b[0;31m#print(sc.prod)\u001b[0m\u001b[0;34m\u001b[0m\u001b[0;34m\u001b[0m\u001b[0;34m\u001b[0m\u001b[0m\n\u001b[0;32m--> 172\u001b[0;31m         \u001b[0;31m#print((vec.len[combs[1, ]]*vec.len[combs[2, ]]))\u001b[0m\u001b[0;34m\u001b[0m\u001b[0;34m\u001b[0m\u001b[0;34m\u001b[0m\u001b[0m\n\u001b[0m\u001b[1;32m    173\u001b[0m         \u001b[0;31m#}\u001b[0m\u001b[0;34m\u001b[0m\u001b[0;34m\u001b[0m\u001b[0;34m\u001b[0m\u001b[0m\n\u001b[1;32m    174\u001b[0m         \u001b[0mcos_th\u001b[0m \u001b[0;34m=\u001b[0m \u001b[0msc_prod\u001b[0m\u001b[0;34m/\u001b[0m\u001b[0;34m(\u001b[0m\u001b[0mvec_len\u001b[0m\u001b[0;34m[\u001b[0m\u001b[0mcombs\u001b[0m\u001b[0;34m[\u001b[0m\u001b[0;36m0\u001b[0m\u001b[0;34m,\u001b[0m\u001b[0;34m:\u001b[0m\u001b[0;34m]\u001b[0m\u001b[0;34m]\u001b[0m\u001b[0;34m*\u001b[0m\u001b[0mvec_len\u001b[0m\u001b[0;34m[\u001b[0m\u001b[0mcombs\u001b[0m\u001b[0;34m[\u001b[0m\u001b[0;36m1\u001b[0m\u001b[0;34m,\u001b[0m\u001b[0;34m:\u001b[0m\u001b[0;34m]\u001b[0m\u001b[0;34m]\u001b[0m\u001b[0;34m)\u001b[0m\u001b[0;34m\u001b[0m\u001b[0;34m\u001b[0m\u001b[0m\n",
      "\u001b[0;32m~/skcontrib-id-estimators/skdim/_commonfuncs.py\u001b[0m in \u001b[0;36mget_nn\u001b[0;34m(X, k, n_jobs)\u001b[0m\n\u001b[1;32m     59\u001b[0m     \u001b[0mneigh\u001b[0m \u001b[0;34m=\u001b[0m \u001b[0mNearestNeighbors\u001b[0m\u001b[0;34m(\u001b[0m\u001b[0mn_neighbors\u001b[0m\u001b[0;34m=\u001b[0m\u001b[0mk\u001b[0m\u001b[0;34m,\u001b[0m\u001b[0mn_jobs\u001b[0m\u001b[0;34m=\u001b[0m\u001b[0mn_jobs\u001b[0m\u001b[0;34m)\u001b[0m\u001b[0;34m\u001b[0m\u001b[0;34m\u001b[0m\u001b[0m\n\u001b[1;32m     60\u001b[0m     \u001b[0mneigh\u001b[0m\u001b[0;34m.\u001b[0m\u001b[0mfit\u001b[0m\u001b[0;34m(\u001b[0m\u001b[0mX\u001b[0m\u001b[0;34m)\u001b[0m\u001b[0;34m\u001b[0m\u001b[0;34m\u001b[0m\u001b[0m\n\u001b[0;32m---> 61\u001b[0;31m     \u001b[0mdists\u001b[0m\u001b[0;34m,\u001b[0m \u001b[0minds\u001b[0m \u001b[0;34m=\u001b[0m \u001b[0mneigh\u001b[0m\u001b[0;34m.\u001b[0m\u001b[0mkneighbors\u001b[0m\u001b[0;34m(\u001b[0m\u001b[0mreturn_distance\u001b[0m\u001b[0;34m=\u001b[0m\u001b[0;32mTrue\u001b[0m\u001b[0;34m)\u001b[0m\u001b[0;34m\u001b[0m\u001b[0;34m\u001b[0m\u001b[0m\n\u001b[0m\u001b[1;32m     62\u001b[0m     \u001b[0;32mreturn\u001b[0m \u001b[0mdists\u001b[0m\u001b[0;34m,\u001b[0m\u001b[0minds\u001b[0m\u001b[0;34m\u001b[0m\u001b[0;34m\u001b[0m\u001b[0m\n\u001b[1;32m     63\u001b[0m \u001b[0;34m\u001b[0m\u001b[0m\n",
      "\u001b[0;32m~/anaconda3/lib/python3.7/site-packages/sklearn/neighbors/_base.py\u001b[0m in \u001b[0;36mkneighbors\u001b[0;34m(self, X, n_neighbors, return_distance)\u001b[0m\n\u001b[1;32m    661\u001b[0m                 delayed_query(\n\u001b[1;32m    662\u001b[0m                     self._tree, X[s], n_neighbors, return_distance)\n\u001b[0;32m--> 663\u001b[0;31m                 \u001b[0;32mfor\u001b[0m \u001b[0ms\u001b[0m \u001b[0;32min\u001b[0m \u001b[0mgen_even_slices\u001b[0m\u001b[0;34m(\u001b[0m\u001b[0mX\u001b[0m\u001b[0;34m.\u001b[0m\u001b[0mshape\u001b[0m\u001b[0;34m[\u001b[0m\u001b[0;36m0\u001b[0m\u001b[0;34m]\u001b[0m\u001b[0;34m,\u001b[0m \u001b[0mn_jobs\u001b[0m\u001b[0;34m)\u001b[0m\u001b[0;34m\u001b[0m\u001b[0;34m\u001b[0m\u001b[0m\n\u001b[0m\u001b[1;32m    664\u001b[0m             )\n\u001b[1;32m    665\u001b[0m         \u001b[0;32melse\u001b[0m\u001b[0;34m:\u001b[0m\u001b[0;34m\u001b[0m\u001b[0;34m\u001b[0m\u001b[0m\n",
      "\u001b[0;32m~/.local/lib/python3.7/site-packages/joblib/parallel.py\u001b[0m in \u001b[0;36m__call__\u001b[0;34m(self, iterable)\u001b[0m\n\u001b[1;32m   1025\u001b[0m                 \u001b[0mself\u001b[0m\u001b[0;34m.\u001b[0m\u001b[0m_backend\u001b[0m\u001b[0;34m.\u001b[0m\u001b[0mstop_call\u001b[0m\u001b[0;34m(\u001b[0m\u001b[0;34m)\u001b[0m\u001b[0;34m\u001b[0m\u001b[0;34m\u001b[0m\u001b[0m\n\u001b[1;32m   1026\u001b[0m             \u001b[0;32mif\u001b[0m \u001b[0;32mnot\u001b[0m \u001b[0mself\u001b[0m\u001b[0;34m.\u001b[0m\u001b[0m_managed_backend\u001b[0m\u001b[0;34m:\u001b[0m\u001b[0;34m\u001b[0m\u001b[0;34m\u001b[0m\u001b[0m\n\u001b[0;32m-> 1027\u001b[0;31m                 \u001b[0mself\u001b[0m\u001b[0;34m.\u001b[0m\u001b[0m_terminate_backend\u001b[0m\u001b[0;34m(\u001b[0m\u001b[0;34m)\u001b[0m\u001b[0;34m\u001b[0m\u001b[0;34m\u001b[0m\u001b[0m\n\u001b[0m\u001b[1;32m   1028\u001b[0m             \u001b[0mself\u001b[0m\u001b[0;34m.\u001b[0m\u001b[0m_jobs\u001b[0m \u001b[0;34m=\u001b[0m \u001b[0mlist\u001b[0m\u001b[0;34m(\u001b[0m\u001b[0;34m)\u001b[0m\u001b[0;34m\u001b[0m\u001b[0;34m\u001b[0m\u001b[0m\n\u001b[1;32m   1029\u001b[0m             \u001b[0mself\u001b[0m\u001b[0;34m.\u001b[0m\u001b[0m_pickle_cache\u001b[0m \u001b[0;34m=\u001b[0m \u001b[0;32mNone\u001b[0m\u001b[0;34m\u001b[0m\u001b[0;34m\u001b[0m\u001b[0m\n",
      "\u001b[0;32m~/.local/lib/python3.7/site-packages/joblib/parallel.py\u001b[0m in \u001b[0;36m_terminate_backend\u001b[0;34m(self)\u001b[0m\n\u001b[1;32m    732\u001b[0m     \u001b[0;32mdef\u001b[0m \u001b[0m_terminate_backend\u001b[0m\u001b[0;34m(\u001b[0m\u001b[0mself\u001b[0m\u001b[0;34m)\u001b[0m\u001b[0;34m:\u001b[0m\u001b[0;34m\u001b[0m\u001b[0;34m\u001b[0m\u001b[0m\n\u001b[1;32m    733\u001b[0m         \u001b[0;32mif\u001b[0m \u001b[0mself\u001b[0m\u001b[0;34m.\u001b[0m\u001b[0m_backend\u001b[0m \u001b[0;32mis\u001b[0m \u001b[0;32mnot\u001b[0m \u001b[0;32mNone\u001b[0m\u001b[0;34m:\u001b[0m\u001b[0;34m\u001b[0m\u001b[0;34m\u001b[0m\u001b[0m\n\u001b[0;32m--> 734\u001b[0;31m             \u001b[0mself\u001b[0m\u001b[0;34m.\u001b[0m\u001b[0m_backend\u001b[0m\u001b[0;34m.\u001b[0m\u001b[0mterminate\u001b[0m\u001b[0;34m(\u001b[0m\u001b[0;34m)\u001b[0m\u001b[0;34m\u001b[0m\u001b[0;34m\u001b[0m\u001b[0m\n\u001b[0m\u001b[1;32m    735\u001b[0m \u001b[0;34m\u001b[0m\u001b[0m\n\u001b[1;32m    736\u001b[0m     \u001b[0;32mdef\u001b[0m \u001b[0m_dispatch\u001b[0m\u001b[0;34m(\u001b[0m\u001b[0mself\u001b[0m\u001b[0;34m,\u001b[0m \u001b[0mbatch\u001b[0m\u001b[0;34m)\u001b[0m\u001b[0;34m:\u001b[0m\u001b[0;34m\u001b[0m\u001b[0;34m\u001b[0m\u001b[0m\n",
      "\u001b[0;32m~/.local/lib/python3.7/site-packages/joblib/_parallel_backends.py\u001b[0m in \u001b[0;36mterminate\u001b[0;34m(self)\u001b[0m\n\u001b[1;32m    242\u001b[0m         \u001b[0;32mif\u001b[0m \u001b[0mself\u001b[0m\u001b[0;34m.\u001b[0m\u001b[0m_pool\u001b[0m \u001b[0;32mis\u001b[0m \u001b[0;32mnot\u001b[0m \u001b[0;32mNone\u001b[0m\u001b[0;34m:\u001b[0m\u001b[0;34m\u001b[0m\u001b[0;34m\u001b[0m\u001b[0m\n\u001b[1;32m    243\u001b[0m             \u001b[0mself\u001b[0m\u001b[0;34m.\u001b[0m\u001b[0m_pool\u001b[0m\u001b[0;34m.\u001b[0m\u001b[0mclose\u001b[0m\u001b[0;34m(\u001b[0m\u001b[0;34m)\u001b[0m\u001b[0;34m\u001b[0m\u001b[0;34m\u001b[0m\u001b[0m\n\u001b[0;32m--> 244\u001b[0;31m             \u001b[0mself\u001b[0m\u001b[0;34m.\u001b[0m\u001b[0m_pool\u001b[0m\u001b[0;34m.\u001b[0m\u001b[0mterminate\u001b[0m\u001b[0;34m(\u001b[0m\u001b[0;34m)\u001b[0m  \u001b[0;31m# terminate does a join()\u001b[0m\u001b[0;34m\u001b[0m\u001b[0;34m\u001b[0m\u001b[0m\n\u001b[0m\u001b[1;32m    245\u001b[0m             \u001b[0mself\u001b[0m\u001b[0;34m.\u001b[0m\u001b[0m_pool\u001b[0m \u001b[0;34m=\u001b[0m \u001b[0;32mNone\u001b[0m\u001b[0;34m\u001b[0m\u001b[0;34m\u001b[0m\u001b[0m\n\u001b[1;32m    246\u001b[0m \u001b[0;34m\u001b[0m\u001b[0m\n",
      "\u001b[0;32m~/anaconda3/lib/python3.7/multiprocessing/pool.py\u001b[0m in \u001b[0;36mterminate\u001b[0;34m(self)\u001b[0m\n\u001b[1;32m    546\u001b[0m         \u001b[0mself\u001b[0m\u001b[0;34m.\u001b[0m\u001b[0m_state\u001b[0m \u001b[0;34m=\u001b[0m \u001b[0mTERMINATE\u001b[0m\u001b[0;34m\u001b[0m\u001b[0;34m\u001b[0m\u001b[0m\n\u001b[1;32m    547\u001b[0m         \u001b[0mself\u001b[0m\u001b[0;34m.\u001b[0m\u001b[0m_worker_handler\u001b[0m\u001b[0;34m.\u001b[0m\u001b[0m_state\u001b[0m \u001b[0;34m=\u001b[0m \u001b[0mTERMINATE\u001b[0m\u001b[0;34m\u001b[0m\u001b[0;34m\u001b[0m\u001b[0m\n\u001b[0;32m--> 548\u001b[0;31m         \u001b[0mself\u001b[0m\u001b[0;34m.\u001b[0m\u001b[0m_terminate\u001b[0m\u001b[0;34m(\u001b[0m\u001b[0;34m)\u001b[0m\u001b[0;34m\u001b[0m\u001b[0;34m\u001b[0m\u001b[0m\n\u001b[0m\u001b[1;32m    549\u001b[0m \u001b[0;34m\u001b[0m\u001b[0m\n\u001b[1;32m    550\u001b[0m     \u001b[0;32mdef\u001b[0m \u001b[0mjoin\u001b[0m\u001b[0;34m(\u001b[0m\u001b[0mself\u001b[0m\u001b[0;34m)\u001b[0m\u001b[0;34m:\u001b[0m\u001b[0;34m\u001b[0m\u001b[0;34m\u001b[0m\u001b[0m\n",
      "\u001b[0;32m~/anaconda3/lib/python3.7/multiprocessing/util.py\u001b[0m in \u001b[0;36m__call__\u001b[0;34m(self, wr, _finalizer_registry, sub_debug, getpid)\u001b[0m\n\u001b[1;32m    187\u001b[0m                 sub_debug('finalizer calling %s with args %s and kwargs %s',\n\u001b[1;32m    188\u001b[0m                           self._callback, self._args, self._kwargs)\n\u001b[0;32m--> 189\u001b[0;31m                 \u001b[0mres\u001b[0m \u001b[0;34m=\u001b[0m \u001b[0mself\u001b[0m\u001b[0;34m.\u001b[0m\u001b[0m_callback\u001b[0m\u001b[0;34m(\u001b[0m\u001b[0;34m*\u001b[0m\u001b[0mself\u001b[0m\u001b[0;34m.\u001b[0m\u001b[0m_args\u001b[0m\u001b[0;34m,\u001b[0m \u001b[0;34m**\u001b[0m\u001b[0mself\u001b[0m\u001b[0;34m.\u001b[0m\u001b[0m_kwargs\u001b[0m\u001b[0;34m)\u001b[0m\u001b[0;34m\u001b[0m\u001b[0;34m\u001b[0m\u001b[0m\n\u001b[0m\u001b[1;32m    190\u001b[0m             \u001b[0mself\u001b[0m\u001b[0;34m.\u001b[0m\u001b[0m_weakref\u001b[0m \u001b[0;34m=\u001b[0m \u001b[0mself\u001b[0m\u001b[0;34m.\u001b[0m\u001b[0m_callback\u001b[0m \u001b[0;34m=\u001b[0m \u001b[0mself\u001b[0m\u001b[0;34m.\u001b[0m\u001b[0m_args\u001b[0m \u001b[0;34m=\u001b[0m\u001b[0;31m \u001b[0m\u001b[0;31m\\\u001b[0m\u001b[0;34m\u001b[0m\u001b[0;34m\u001b[0m\u001b[0m\n\u001b[1;32m    191\u001b[0m                             \u001b[0mself\u001b[0m\u001b[0;34m.\u001b[0m\u001b[0m_kwargs\u001b[0m \u001b[0;34m=\u001b[0m \u001b[0mself\u001b[0m\u001b[0;34m.\u001b[0m\u001b[0m_key\u001b[0m \u001b[0;34m=\u001b[0m \u001b[0;32mNone\u001b[0m\u001b[0;34m\u001b[0m\u001b[0;34m\u001b[0m\u001b[0m\n",
      "\u001b[0;32m~/anaconda3/lib/python3.7/multiprocessing/pool.py\u001b[0m in \u001b[0;36m_terminate_pool\u001b[0;34m(cls, taskqueue, inqueue, outqueue, pool, worker_handler, task_handler, result_handler, cache)\u001b[0m\n\u001b[1;32m    592\u001b[0m         \u001b[0mutil\u001b[0m\u001b[0;34m.\u001b[0m\u001b[0mdebug\u001b[0m\u001b[0;34m(\u001b[0m\u001b[0;34m'joining worker handler'\u001b[0m\u001b[0;34m)\u001b[0m\u001b[0;34m\u001b[0m\u001b[0;34m\u001b[0m\u001b[0m\n\u001b[1;32m    593\u001b[0m         \u001b[0;32mif\u001b[0m \u001b[0mthreading\u001b[0m\u001b[0;34m.\u001b[0m\u001b[0mcurrent_thread\u001b[0m\u001b[0;34m(\u001b[0m\u001b[0;34m)\u001b[0m \u001b[0;32mis\u001b[0m \u001b[0;32mnot\u001b[0m \u001b[0mworker_handler\u001b[0m\u001b[0;34m:\u001b[0m\u001b[0;34m\u001b[0m\u001b[0;34m\u001b[0m\u001b[0m\n\u001b[0;32m--> 594\u001b[0;31m             \u001b[0mworker_handler\u001b[0m\u001b[0;34m.\u001b[0m\u001b[0mjoin\u001b[0m\u001b[0;34m(\u001b[0m\u001b[0;34m)\u001b[0m\u001b[0;34m\u001b[0m\u001b[0;34m\u001b[0m\u001b[0m\n\u001b[0m\u001b[1;32m    595\u001b[0m \u001b[0;34m\u001b[0m\u001b[0m\n\u001b[1;32m    596\u001b[0m         \u001b[0;31m# Terminate workers which haven't already finished.\u001b[0m\u001b[0;34m\u001b[0m\u001b[0;34m\u001b[0m\u001b[0;34m\u001b[0m\u001b[0m\n",
      "\u001b[0;32m~/anaconda3/lib/python3.7/threading.py\u001b[0m in \u001b[0;36mjoin\u001b[0;34m(self, timeout)\u001b[0m\n\u001b[1;32m   1042\u001b[0m \u001b[0;34m\u001b[0m\u001b[0m\n\u001b[1;32m   1043\u001b[0m         \u001b[0;32mif\u001b[0m \u001b[0mtimeout\u001b[0m \u001b[0;32mis\u001b[0m \u001b[0;32mNone\u001b[0m\u001b[0;34m:\u001b[0m\u001b[0;34m\u001b[0m\u001b[0;34m\u001b[0m\u001b[0m\n\u001b[0;32m-> 1044\u001b[0;31m             \u001b[0mself\u001b[0m\u001b[0;34m.\u001b[0m\u001b[0m_wait_for_tstate_lock\u001b[0m\u001b[0;34m(\u001b[0m\u001b[0;34m)\u001b[0m\u001b[0;34m\u001b[0m\u001b[0;34m\u001b[0m\u001b[0m\n\u001b[0m\u001b[1;32m   1045\u001b[0m         \u001b[0;32melse\u001b[0m\u001b[0;34m:\u001b[0m\u001b[0;34m\u001b[0m\u001b[0;34m\u001b[0m\u001b[0m\n\u001b[1;32m   1046\u001b[0m             \u001b[0;31m# the behavior of a negative timeout isn't documented, but\u001b[0m\u001b[0;34m\u001b[0m\u001b[0;34m\u001b[0m\u001b[0;34m\u001b[0m\u001b[0m\n",
      "\u001b[0;32m~/anaconda3/lib/python3.7/threading.py\u001b[0m in \u001b[0;36m_wait_for_tstate_lock\u001b[0;34m(self, block, timeout)\u001b[0m\n\u001b[1;32m   1058\u001b[0m         \u001b[0;32mif\u001b[0m \u001b[0mlock\u001b[0m \u001b[0;32mis\u001b[0m \u001b[0;32mNone\u001b[0m\u001b[0;34m:\u001b[0m  \u001b[0;31m# already determined that the C code is done\u001b[0m\u001b[0;34m\u001b[0m\u001b[0;34m\u001b[0m\u001b[0m\n\u001b[1;32m   1059\u001b[0m             \u001b[0;32massert\u001b[0m \u001b[0mself\u001b[0m\u001b[0;34m.\u001b[0m\u001b[0m_is_stopped\u001b[0m\u001b[0;34m\u001b[0m\u001b[0;34m\u001b[0m\u001b[0m\n\u001b[0;32m-> 1060\u001b[0;31m         \u001b[0;32melif\u001b[0m \u001b[0mlock\u001b[0m\u001b[0;34m.\u001b[0m\u001b[0macquire\u001b[0m\u001b[0;34m(\u001b[0m\u001b[0mblock\u001b[0m\u001b[0;34m,\u001b[0m \u001b[0mtimeout\u001b[0m\u001b[0;34m)\u001b[0m\u001b[0;34m:\u001b[0m\u001b[0;34m\u001b[0m\u001b[0;34m\u001b[0m\u001b[0m\n\u001b[0m\u001b[1;32m   1061\u001b[0m             \u001b[0mlock\u001b[0m\u001b[0;34m.\u001b[0m\u001b[0mrelease\u001b[0m\u001b[0;34m(\u001b[0m\u001b[0;34m)\u001b[0m\u001b[0;34m\u001b[0m\u001b[0;34m\u001b[0m\u001b[0m\n\u001b[1;32m   1062\u001b[0m             \u001b[0mself\u001b[0m\u001b[0;34m.\u001b[0m\u001b[0m_stop\u001b[0m\u001b[0;34m(\u001b[0m\u001b[0;34m)\u001b[0m\u001b[0;34m\u001b[0m\u001b[0;34m\u001b[0m\u001b[0m\n",
      "\u001b[0;31mKeyboardInterrupt\u001b[0m: "
     ]
    }
   ],
   "source": [
    "corint = global_id.CorrInt().fit(data)\n",
    "danco = global_id.DANCo().fit(data)\n",
    "knn = global_id.KNN().fit(data)\n",
    "mada = global_id.Mada(local=True,k=20).fit(data)\n",
    "twonn = global_id.TwoNN().fit(data)\n",
    "\n",
    "ess = local_id.ESS().fit(data)\n",
    "fishers = local_id.FisherS().fit(data)\n",
    "lpca = local_id.lPCA().fit(data)"
   ]
  },
  {
   "cell_type": "code",
   "execution_count": 6,
   "metadata": {},
   "outputs": [],
   "source": [
    "def test_lPCA_params(data):\n",
    "    try:\n",
    "        x = local_id.lPCA().fit(data)\n",
    "        x = local_id.lPCA(ver='fan').fit(data)\n",
    "        x = local_id.lPCA(ver='ratio').fit(data)\n",
    "        x = local_id.lPCA(ver='maxgap').fit(data)\n",
    "        x = local_id.lPCA(ver='').fit(data)\n",
    "    except:\n",
    "        raise AssertionError('test failed')"
   ]
  },
  {
   "cell_type": "code",
   "execution_count": 8,
   "metadata": {},
   "outputs": [],
   "source": [
    "from inspect import getmembers, isfunction, isclass\n",
    "from sklearn.utils.estimator_checks import parametrize_with_checks\n",
    "from sklearn.utils.estimator_checks import check_estimator\n",
    "from sklearn.utils.testing import (assert_equal,\n",
    "                                   assert_array_equal,\n",
    "                                   assert_array_almost_equal,\n",
    "                                   assert_raises,\n",
    "                                   assert_in,\n",
    "                                   assert_not_in,\n",
    "                                   assert_no_warnings)\n",
    "\n",
    "def test_ess(data):\n",
    "    res = intdimr.essLocalDimEst(data)\n",
    "    r_ess = dict(zip(res.names,[np.array(i) for i in res]))\n",
    "    assert (r_ess['dim.est'] == ess.dimension_ and r_ess['ess'] == ess.essval_)\n",
    "\n",
    "def test_corint(data): \n",
    "    corint = global_id.CorrInt(k1=10,k2=20).fit(data)\n",
    "    r_corint = np.array(ider.corint(data,k1=10,k2=20))\n",
    "    assert_equal(r_corint, corint.dimension_)\n",
    "        \n",
    "def test_mada(data): \n",
    "    r_mada = np.array(ider.mada(data,local=True,k=20))\n",
    "    mada = global_id.Mada(local=True,k=20).fit(data)\n",
    "    assert_array_almost_equal(r_mada,mada.dimension_)\n",
    "\n",
    "def test_fisher_params(data):\n",
    "    try:\n",
    "        x = local_id.FisherS().fit(data)\n",
    "        x = local_id.FisherS(ConditionalNumber=2).fit(data)\n",
    "        x = local_id.FisherS(ProducePlots=True).fit(data)\n",
    "        x = local_id.FisherS(ProjectOnSphere=False).fit(data)\n",
    "        x = local_id.FisherS(ncomp=True).fit(data)\n",
    "        x = local_id.FisherS(limit_maxdim=True).fit(data)\n",
    "    except:\n",
    "        raise AssertionError('test failed')\n",
    "        \n",
    "def test_ess_params(data):\n",
    "    try:\n",
    "        x = local_id.ESS().fit(data)\n",
    "        x = local_id.ESS(ver='b').fit(data)\n",
    "        x = local_id.ESS(d=2).fit(data)\n",
    "    except:\n",
    "        raise AssertionError('test failed')\n",
    "        \n",
    "def test_sklearn_compatible_estimator():\n",
    "    local_class_list = [o[1] for o in getmembers(local_id) if isclass(o[1])]\n",
    "    global_class_list = [o[1] for o in getmembers(global_id) if isclass(o[1])]\n",
    "    estimators = local_class_list+global_class_list\n",
    "    \n",
    "    for estimator in estimators:\n",
    "        print(estimator)\n",
    "        check_estimator(estimator)    \n",
    "\n",
    "\n",
    "res = intdimr.knnDimEst(data,k=10,ps=np.arange(11,50),M=1,gamma=2)\n",
    "r_knn = dict(zip(res.names,[np.array(i) for i in res]))\n",
    "\n",
    "knn = global_id.KNN(k=10,ps=np.arange(11,50),M=1,gamma=2).fit(data)"
   ]
  },
  {
   "cell_type": "code",
   "execution_count": 9,
   "metadata": {},
   "outputs": [
    {
     "name": "stdout",
     "output_type": "stream",
     "text": [
      "<class 'local_id._ESS.ESS'>\n",
      "<class 'local_id._FisherS.FisherS'>\n",
      "<class 'local_id._PCA.lPCA'>\n",
      "<class 'global_id._CorrInt.CorrInt'>\n",
      "<class 'global_id._DANCo.DANCo'>\n",
      "<class 'global_id._KNN.KNN'>\n",
      "<class 'global_id._Mada.Mada'>\n",
      "<class 'global_id._TwoNN.TwoNN'>\n"
     ]
    }
   ],
   "source": [
    "test_sklearn_compatible_estimator()"
   ]
  },
  {
   "cell_type": "code",
   "execution_count": 31,
   "metadata": {},
   "outputs": [
    {
     "data": {
      "text/plain": [
       "(7.85771515256814,\n",
       " R object with classes: ('numeric',) mapped to:\n",
       " [7.857715])"
      ]
     },
     "execution_count": 31,
     "metadata": {},
     "output_type": "execute_result"
    }
   ],
   "source": [
    "(maxLikGlobalDimEst(data, k, dnoise = None, sigma = 0, n = None,\n",
    "                    integral_approximation = 'Haro', unbiased = False,\n",
    "                    neighborhood_based = True,\n",
    "                    neighborhood_aggregation = 'maximum.likelihood',\n",
    "                    iterations = 5, K = 5),intdimr.maxLikGlobalDimEst(data, k, sigma = 0,\n",
    "                    integral_approximation = 'Haro', unbiased = False,\n",
    "                    neighborhood_based = True,\n",
    "                    neighborhood_aggregation = 'maximum.likelihood',\n",
    "                    iterations = 5, K = 5)[0])"
   ]
  },
  {
   "cell_type": "code",
   "execution_count": 36,
   "metadata": {},
   "outputs": [
    {
     "data": {
      "text/plain": [
       "(5.484246516489929,\n",
       " R object with classes: ('numeric',) mapped to:\n",
       " [5.484247])"
      ]
     },
     "execution_count": 36,
     "metadata": {},
     "output_type": "execute_result"
    }
   ],
   "source": [
    "(maxLikGlobalDimEst(data, k, dnoise = dnoiseGaussH, sigma = 0.2, n = None,\n",
    "                    integral_approximation = 'Haro', unbiased = False,\n",
    "                    neighborhood_based = True,\n",
    "                    neighborhood_aggregation = 'maximum.likelihood',\n",
    "                    iterations = 5, K = 5),intdimr.maxLikGlobalDimEst(data, k, dnoise = 'dnoiseGaussH', sigma = 0.2,\n",
    "                    integral_approximation = 'Haro', unbiased = False,\n",
    "                    neighborhood_based = True,\n",
    "                    neighborhood_aggregation = 'maximum.likelihood',\n",
    "                    iterations = 5, K = 5)[0])"
   ]
  },
  {
   "cell_type": "code",
   "execution_count": 42,
   "metadata": {},
   "outputs": [
    {
     "data": {
      "text/plain": [
       "(8.724549160242237,\n",
       " R object with classes: ('numeric',) mapped to:\n",
       " [8.724549])"
      ]
     },
     "execution_count": 42,
     "metadata": {},
     "output_type": "execute_result"
    }
   ],
   "source": [
    "(maxLikGlobalDimEst(data, k, dnoise = None, sigma = 0, n = None,\n",
    "                    integral_approximation = 'Haro', unbiased = False,\n",
    "                    neighborhood_based = True,\n",
    "                    neighborhood_aggregation = 'mean',\n",
    "                    iterations = 5, K = 5),intdimr.maxLikGlobalDimEst(data, k, sigma = 0,\n",
    "                    integral_approximation = 'Haro', unbiased = False,\n",
    "                    neighborhood_based = True,\n",
    "                    neighborhood_aggregation = 'mean',\n",
    "                    iterations = 5, K = 5)[0])"
   ]
  },
  {
   "cell_type": "code",
   "execution_count": 45,
   "metadata": {},
   "outputs": [
    {
     "data": {
      "text/plain": [
       "(7.755154809104211,\n",
       " R object with classes: ('numeric',) mapped to:\n",
       " [7.755155])"
      ]
     },
     "execution_count": 45,
     "metadata": {},
     "output_type": "execute_result"
    }
   ],
   "source": [
    "(maxLikGlobalDimEst(data, k, dnoise = None, sigma = 0, n = None,\n",
    "                    integral_approximation = 'Haro', unbiased = True,\n",
    "                    neighborhood_based = True,\n",
    "                    neighborhood_aggregation = 'mean',\n",
    "                    iterations = 5, K = 5),intdimr.maxLikGlobalDimEst(data, k, sigma = 0,\n",
    "                    integral_approximation = 'Haro', unbiased = True,\n",
    "                    neighborhood_based = True,\n",
    "                    neighborhood_aggregation = 'mean',\n",
    "                    iterations = 5, K = 5)[0])"
   ]
  },
  {
   "cell_type": "code",
   "execution_count": 75,
   "metadata": {},
   "outputs": [
    {
     "data": {
      "text/plain": [
       "(0.5530342616091789,\n",
       " R object with classes: ('numeric',) mapped to:\n",
       " [7.998686])"
      ]
     },
     "execution_count": 75,
     "metadata": {},
     "output_type": "execute_result"
    }
   ],
   "source": [
    "(maxLikGlobalDimEst(data, k, dnoise = None, sigma = 0, n = None,\n",
    "                    integral_approximation = 'Haro', unbiased = True,\n",
    "                    neighborhood_based = False,\n",
    "                    neighborhood_aggregation = 'mean',\n",
    "                    iterations = 5, K = 5),intdimr.maxLikGlobalDimEst(data, k, sigma = 0,\n",
    "                    integral_approximation = 'Haro', unbiased = True,\n",
    "                    neighborhood_based = False,\n",
    "                    neighborhood_aggregation = 'mean',\n",
    "                    iterations = 5, K = 5)[0])"
   ]
  },
  {
   "cell_type": "code",
   "execution_count": 117,
   "metadata": {},
   "outputs": [],
   "source": [
    "def maxLikGlobalDimEst(data, k, dnoise = None, sigma = 0, n = None,\n",
    "                    integral_approximation = 'Haro', unbiased = False,\n",
    "                    neighborhood_aggregation = 'maximum.likelihood',\n",
    "                    iterations = 5):\n",
    "    # 'k' is the number of neighbors used for each dimension estimation.\n",
    "    # 'dnoise' is a vector valued function giving the transition density.\n",
    "    # 'sigma' is the estimated standard deviation for the noise.\n",
    "    # 'n' is the dimension of the noise (at least dim(data)[2])\n",
    "    # integral.approximation can take values 'Haro', 'guaranteed.convergence', 'iteration'\n",
    "    # neighborhood.based means that estimation is made for each neighborhood,\n",
    "    # otherwise estimation is based on distances in entire data set.\n",
    "    # 'K' is number of neighbors per data point that is considered, only used for \n",
    "    # neighborhood.based = False\n",
    "\n",
    "    #if (neighborhood_based):\n",
    "    mi = maxLikPointwiseDimEst(data, k, dnoise, sigma, n,\n",
    "                       integral_approximation = integral_approximation,\n",
    "                       unbiased = unbiased)\n",
    "\n",
    "    if neighborhood_aggregation == 'maximum.likelihood':\n",
    "        de = 1/np.mean(1/mi) \n",
    "\n",
    "    elif neighborhood_aggregation == 'mean':\n",
    "        de = np.mean(mi) \n",
    "    elif neighborhood_aggregation == 'median':\n",
    "        de = robust = np.median(mi)\n",
    "    #return(de)\n",
    "\n",
    "\n",
    "    #dist, idx = get_nn(data, K)\n",
    "    #dist = dist[~duplicated(dist[range(K*N)])]\n",
    "    #Rs = dist[range(K*N)]\n",
    "    #de = maxLikDimEstFromR(Rs, dnoise, np.sqrt(2)*sigma, n, integral_approximation, unbiased,\n",
    "    #        iterations) # Since distances between points are used, noise is \n",
    "                        # added at both ends, i.e. variance is doubled. \n",
    "        \n",
    "              #likelihood = np.nan\n",
    "    return(de) \n",
    "\n",
    "\n",
    "def maxLikPointwiseDimEst(data, k, dnoise = None, sigma = 0, n = None, indices = None,\n",
    "                         integral_approximation = 'Haro', unbiased = False,\n",
    "                         iterations = 5):\n",
    "    ## estimates dimension around each point in data[indices, ]\n",
    "    #\n",
    "    # 'indices' give the indexes for which local dimension estimation should\n",
    "    # be performed.\n",
    "    # 'k' is the number of neighbors used for each local dimension estimation.\n",
    "    # 'dnoise' is a vector valued function giving the transition density.\n",
    "    # 'sigma' is the estimated standard deviation for the noise.\n",
    "    # 'n' is the dimension of the noise (at least dim(data)[2])\n",
    "\n",
    "    if indices is None:\n",
    "        indices = np.arange(len(data))\n",
    "\n",
    "    N = len(indices)\n",
    "    nbh_dist, idx = get_nn(data, k)\n",
    "    de = np.repeat(np.nan, N) # This vector will hold local dimension estimates\n",
    "\n",
    "    for i in range(N):\n",
    "        Rs = nbh_dist[i,:]\n",
    "        de[i] = maxLikDimEstFromR(Rs, dnoise, sigma, n, integral_approximation, unbiased, iterations)\n",
    "\n",
    "    return(de)\n",
    "\n",
    "\n",
    "def maxLikLocalDimEst(data, dnoise = None, sigma = 0, n = None,\n",
    "                   integral_approximation = 'Haro',\n",
    "                   unbiased = False, iterations = 5):\n",
    "    \n",
    "    # assuming data set is local\n",
    "    center = np.mean(data, axis=0)\n",
    "    cent_data = data - center\n",
    "    Rs = np.sort(lens(cent_data))\n",
    "    de = maxLikDimEstFromR(Rs, dnoise, sigma, n, integral_approximation, unbiased, iterations)\n",
    "    return(de)\n",
    "\n",
    "################################################################################\n",
    "\n",
    "def maxLikDimEstFromR(Rs, dnoise, sigma, n, integral_approximation = 'Haro',\n",
    "                unbiased = False, iterations = 5):\n",
    "\n",
    "    if integral_approximation not in ['Haro', 'guaranteed.convergence', 'iteration']:\n",
    "        raise ValueError('Wrong integral approximation')\n",
    "\n",
    "    if dnoise is not None and not callable(dnoise):\n",
    "        raise ValueError('dnoise must be a function')\n",
    "        \n",
    "    if not integral_approximation == 'Haro' and dnoise is not None:\n",
    "        dnoise = lambda r, s, sigma, k: r*dnoise(r, s, sigma, k)\n",
    "\n",
    "    de = maxLikDimEstFromR_haro_approx(Rs, dnoise, sigma, n, unbiased)\n",
    "    if (integral_approximation == 'iteration'):\n",
    "        de = maxLikDimEstFromRIterative(Rs, dnoise_orig, sigma, n, de, unbiased)\n",
    "\n",
    "    return(de)\n",
    "################################################################################\n",
    "\n",
    "def maxLikDimEstFromR_haro_approx(Rs, dnoise, sigma, n, unbiased = False):\n",
    "    # if dnoise is the noise function this is the approximation used in Haro.\n",
    "    # for 'guaranteed.convergence' dnoise should be r times the noise function\n",
    "    # with 'unbiased' option, estimator is unbiased if no noise or boundary\n",
    "\n",
    "    k = len(Rs)\n",
    "    kfac = k-2 if unbiased else k-1\n",
    "    \n",
    "\n",
    "    Rk = np.max(Rs)\n",
    "    if dnoise is None:\n",
    "        return(kfac/(np.sum(np.log(Rk/Rs))))\n",
    "\n",
    "    Rpr = Rk + 100*sigma\n",
    "\n",
    "    numerator = np.repeat(np.nan, k - 1)\n",
    "    denominator = np.repeat(np.nan, k - 1)\n",
    "    \n",
    "    numInt = lambda x: dnoise(x, Rj, sigma, n) * np.log(Rk/x)\n",
    "    denomInt = lambda x: dnoise(x, Rj, sigma, n)\n",
    "    \n",
    "    for j in range(k-1):\n",
    "        Rj = Rs[j]\n",
    "        numerator[j] = scipy.integrate.quad(numInt, 0, Rpr, epsrel = 1e-2, epsabs = 1e-2)[0]\n",
    "        denominator[j] = scipy.integrate.quad(denomInt, 0, Rpr, epsrel = 1e-2, epsabs = 1e-2)[0]\n",
    "        \n",
    "\n",
    "    return(kfac/np.sum(numerator/denominator))\n",
    "\n",
    "################################################################################\n",
    "\n",
    "def maxLikDimEstFromRIterative(Rs, dnoise, sigma, n, init = 5,\n",
    "                  unbiased = False, iterations = 5, verbose = False):\n",
    "    m = init\n",
    "    if verbose:\n",
    "        print(\"Start iteration, intial value:\", m, \"\\n\")\n",
    "    for i in range(iterations):\n",
    "        m = maxLikDimEstFromRIterative_inner(Rs, dnoise, sigma, n, m, unbiased)\n",
    "        if verbose:\n",
    "            print(\"Iteration\", i, \":\", m, \"\\n\")\n",
    "        if verbose:\n",
    "            print(\"\\n\")\n",
    "    return(m)\n",
    "\n",
    "def maxLikDimEstFromRIterative_inner(Rs, dnoise, sigma, n, m, unbiased):\n",
    "\n",
    "    k = len(Rs)  \n",
    "    kfac = k-2 if unbiased else k-1\n",
    "\n",
    "    Rk = np.max(Rs)\n",
    "    if dnoise is None:\n",
    "        return(kfac/(np.sum(log(Rk/Rs))))\n",
    "    Rpr = Rk + 100*sigma\n",
    "\n",
    "    numerator = np.repeat(np.nan, k - 1)\n",
    "    denominator = np.repeat(np.nan, k - 1)\n",
    "    \n",
    "    numInt = lambda x: x**(m-1)*dnoise(x, Rj, sigma, n) * np.log(Rk/x)\n",
    "    denomInt = lambda x: x**(m-1)*dnoise(x, Rj, sigma, n)\n",
    "    \n",
    "    for j in range(k-1):\n",
    "        Rj = Rs[j]\n",
    "        m = np.maximum(m, 1)\n",
    "        numerator[j] = scipy.integrate.quad(numInt, 0, Rpr, epsrel = 1e-2,epsabs = 1e-2)[0]\n",
    "        denominator[j] = scipy.integrate.quad(denomInt, 0, Rpr, epsrel = 1e-2,epsabs = 1e-2)[0]\n",
    "\n",
    "    return(kfac/sum(numerator/denominator))\n",
    "\n",
    "def dnorm(x,mu=0,sigma=1): \n",
    "    return np.exp(-.5*((x-mu)/sigma)**2)/(sigma*np.sqrt(2*np.pi))\n",
    "def dnoiseGaussH(r, s, sigma, k = None):\n",
    "    return dnorm(s,mu=r,sigma=sigma) \n",
    "                                        # f(s|r) in Haro et al. (2008) w/ Gaussian\n",
    "                                        # transition density\n",
    "                                        # 'k' is not used, but is input\n",
    "                                        # for compatibility"
   ]
  },
  {
   "cell_type": "code",
   "execution_count": null,
   "metadata": {},
   "outputs": [],
   "source": []
  }
 ],
 "metadata": {
  "kernelspec": {
   "display_name": "Python 3",
   "language": "python",
   "name": "python3"
  },
  "language_info": {
   "codemirror_mode": {
    "name": "ipython",
    "version": 3
   },
   "file_extension": ".py",
   "mimetype": "text/x-python",
   "name": "python",
   "nbconvert_exporter": "python",
   "pygments_lexer": "ipython3",
   "version": "3.7.4"
  }
 },
 "nbformat": 4,
 "nbformat_minor": 4
}
