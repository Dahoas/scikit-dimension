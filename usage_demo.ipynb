{
 "cells": [
  {
   "cell_type": "code",
   "execution_count": 1,
   "metadata": {},
   "outputs": [],
   "source": [
    "%load_ext rpy2.ipython\n",
    "%load_ext autoreload\n",
    "%autoreload 2\n",
    "#%matplotlib qt"
   ]
  },
  {
   "cell_type": "code",
   "execution_count": 2,
   "metadata": {},
   "outputs": [],
   "source": [
    "from skdim import global_id\n",
    "from skdim import local_id\n",
    "import skdim\n",
    "import multiprocessing as mp\n",
    "import scipy\n",
    "import numpy as np\n",
    "import pandas as pd\n",
    "import rpy2\n",
    "import rpy2.robjects as ro\n",
    "import rpy2.robjects.numpy2ri\n",
    "import rpy2.robjects.packages as rpackages\n",
    "\n",
    "from sklearn.neighbors import NearestNeighbors\n",
    "import sklearn.datasets\n",
    "import matplotlib.pyplot as plt\n",
    "from mpl_toolkits.mplot3d import Axes3D\n",
    "\n",
    "rpy2.robjects.numpy2ri.activate()\n",
    "utils = rpackages.importr('utils')\n",
    "#utils.install_packages('intrinsicDimension')\n",
    "#utils.install_packages('ider')\n",
    "intdimr = rpackages.importr('intrinsicDimension')\n",
    "ider   = rpackages.importr('ider')\n",
    "#r_base = rpackages.importr('base')\n",
    "\n",
    "import sys\n",
    "sys.path.append('/home/utilisateur/id-concentration/')\n",
    "from estimators import *"
   ]
  },
  {
   "cell_type": "code",
   "execution_count": 217,
   "metadata": {},
   "outputs": [],
   "source": [
    "def compute_betas(max_dim):\n",
    "    #COMPUTE_BETAS Computes betas between one and max_dim. This code is based on the paper \n",
    "    #   \n",
    "    #   Díaz, M., Quiroz, A., & Velasco, M. (2018). \n",
    "    #   Local angles and dimension estimation from data on manifolds.\n",
    "    # \n",
    "    #   betas = compute_betas( max_dim ) Computes the variance of the angle between two Gaussian\n",
    "    #   vectors in RR^d, it does so for each d between 1 and max_dim.\n",
    "    betas = np.zeros(max_dim-1)\n",
    "    betas[:2] = np.array([np.pi**2/12, np.pi**2/4 - 2])\n",
    "\n",
    "    if (max_dim >= 4):\n",
    "        for ii in range(4,max_dim+1):\n",
    "            betas[ii-2] = betas[ii-4] - 2/(ii-2)**2\n",
    "\n",
    "    betas = np.concatenate((np.array([np.pi**2/4]), betas))\n",
    "\n",
    "    return betas[:,None]\n",
    "\n",
    "def compute_cuts(max_dim):\n",
    "    #COMPUTE_CUTS Computes the cuts that define the thresholds to decide between\n",
    "    #   dimensions. This code is based on the paper \n",
    "    #   \n",
    "    #   Díaz, M., Quiroz, A., & Velasco, M. (2018). \n",
    "    #   Local angles and dimension estimation from data on manifolds.\n",
    "    #\n",
    "    #   etas = compute_cuts(max_dim) Computes the cuts to decide between any\n",
    "    #   dimension between 1 and max_dim.\n",
    "    betas = compute_betas(max_dim)\n",
    "    etas = np.zeros((len(betas)-1,1))\n",
    "    for ii in range(len(etas)):\n",
    "        etas[ii] = (betas[ii] + betas[ii+1])/2\n",
    "    \n",
    "    return etas\n",
    "\n",
    "def compute_statistic(dataset, p):\n",
    "    # COMPUTE_STATISTIC Computes the estimate of the variance of the angles\n",
    "    #   between points of the form X-p where X belongs to the data set. This code is based on the paper \n",
    "    #   \n",
    "    #   Díaz, M., Quiroz, A., & Velasco, M. (2018). \n",
    "    #   Local angles and dimension estimation from data on manifolds.\n",
    "    #\n",
    "    #   [V, E] = compute_statistic( dataset, p ) Computes the empirical\n",
    "    #   variance V and expected value E of the angle between points in the\n",
    "    #   dataset centered at p.\n",
    "    #\n",
    "    k = dataset.shape[1]\n",
    "\n",
    "    dataset = dataset - np.repeat(p,k,axis=1) #centers the points\n",
    "    if len(dataset) > 1:\n",
    "        dataset=dataset[:,np.any(dataset,axis=0)] #deletes zero columns\n",
    "\n",
    "    norms = np.sqrt(np.sum(dataset**2,axis=1))\n",
    "    dot_prods = ((dataset.T@dataset)/(norms.T@norms)) #computes the normalized the cosines of the angles for every pair\n",
    "    angles = np.arccos(np.triu(dot_prods)) #gets the upper triangular part of the matrix of cosines and computes the angle\n",
    "    V = np.sum((angles - np.pi/2)**2/len(angles)) #computes the statistics\n",
    "    E = np.mean(angles - np.pi/2)\n",
    "\n",
    "    return V, E \n",
    "\n",
    "def get_center(dataset):\n",
    "    # GET_CENTER Finds the most central point in the dataset. This code is based on the paper \n",
    "    #   \n",
    "    #   Díaz, M., Quiroz, A., & Velasco, M. (2018). \n",
    "    #   Local angles and dimension estimation from data on manifolds.\n",
    "    #\n",
    "    #   indx = get_center( dataset ) Returns the index of the most central point with respect\n",
    "    #   to a centrality measure described in the paper. \n",
    "    d,n = dataset.shape\n",
    "    centr = np.zeros(n)\n",
    "    vcentral = 0.5 - np.abs(0.5-((2*np.arange(1,n+1)-1)/(2*n)))\n",
    "    for ii in range(d):\n",
    "        icentral = np.argsort(dataset[ii,:])\n",
    "        centr[icentral] = centr[icentral] + vcentral\n",
    "\n",
    "    indx = np.argmax(centr)\n",
    "    return indx\n",
    "\n",
    "def normpdf(x, mu, sigma):\n",
    "    return np.exp(-.5*((x-mu)/sigma)**2)/(sigma*np.sqrt(2*np.pi))\n",
    "def evaluate_approx_density(x, data):\n",
    "    #EVALUATE_APPROX_DENSITY Evaluates normal kernel at each component of x.\n",
    "    #\n",
    "    #   densities = evaluate_approx_density( x, data ) Evaluates the normal \n",
    "    #   distribution estimated with \"data\" at the different components of the\n",
    "    #   vector x. \n",
    "\n",
    "    M = len(data)\n",
    "    h = (4/(3*M))**(1/5)\n",
    "    densities = normpdf(x,data,h)\n",
    "    density = np.mean(densities)/h\n",
    "\n",
    "    return density"
   ]
  },
  {
   "cell_type": "code",
   "execution_count": 131,
   "metadata": {},
   "outputs": [],
   "source": [
    "np.random.seed(1337)\n",
    "dataset=np.random.random((5,30)).T"
   ]
  },
  {
   "cell_type": "code",
   "execution_count": 139,
   "metadata": {},
   "outputs": [],
   "source": [
    "nbr_centers=2\n",
    "n=data.shape[1]"
   ]
  },
  {
   "cell_type": "code",
   "execution_count": 140,
   "metadata": {},
   "outputs": [
    {
     "data": {
      "text/plain": [
       "array([0, 2, 4])"
      ]
     },
     "execution_count": 140,
     "metadata": {},
     "output_type": "execute_result"
    }
   ],
   "source": [
    "ind_cen"
   ]
  },
  {
   "cell_type": "code",
   "execution_count": 169,
   "metadata": {},
   "outputs": [
    {
     "data": {
      "text/plain": [
       "array([2, 8, 4, 9, 1])"
      ]
     },
     "execution_count": 169,
     "metadata": {},
     "output_type": "execute_result"
    }
   ],
   "source": [
    "np.random.seed(0)\n",
    "np.random.choice(10,5,replace=False)"
   ]
  },
  {
   "cell_type": "code",
   "execution_count": 229,
   "metadata": {},
   "outputs": [],
   "source": [
    "def ANOVA_global_estimator(dataset)\n",
    "    np.random.seed(0)\n",
    "    D_max=10\n",
    "\n",
    "    r_samples=[np.array([3,5,1])-1,np.array([1,2,3])-1]\n",
    "\n",
    "    ind_cen = np.zeros(nbr_centers,dtype=int)\n",
    "    for ii in range(nbr_centers):\n",
    "        r_sample = np.random.choice(n,int(np.ceil(n/nbr_centers)),replace=False)\n",
    "        indx = get_center(dataset[:,r_sample])\n",
    "        ind_cen[ii] = r_sample[indx]\n",
    "\n",
    "    centers = dataset[:,ind_cen]\n",
    "\n",
    "\n",
    "###ANOVA local\n",
    "\n",
    "def ANOVA_local_estimator(dataset, centers):\n",
    "    #ANOVA_LOCAL_ESTIMATOR Estimates the dimension of the manifold in which\n",
    "    #  the dataset lies at the center points. This code is based on the paper \n",
    "    #  \n",
    "    #  Díaz, M., Quiroz, A., & Velasco, M. (2018). \n",
    "    #  Local angles and dimension estimation from data on manifolds.\n",
    "    #  \n",
    "    #  [d, first_moments ] = ANOVA_local_estimator( dataset, centers ) Estimate the dimension with\n",
    "    #  for each one of the center points (where the centers are taken as columns of the matrix centers ). \n",
    "    #  Addtionally it gets an empirical expected value ('first_moments') of the angles between the neighbors of each center.  \n",
    "    #\n",
    "    #  [d, dh] = ANOVA_global_estimator( __ , Name, Value ) Estimate the dimension with\n",
    "    #  the user-specified parameters. One can vary the numerical parameters number of\n",
    "    #  neighbors 'k' and maximum possible dimension 'maxdimension'. The boolean parameter 'basic' determines what estimator to use between the basic\n",
    "    #  estimator or the kernel-based one. The boolean parameter 'verbose'\n",
    "    #  determines if the script prints a summary of the results or not.\n",
    "\n",
    "    dimensions = np.zeros(centers.shape[1])\n",
    "    first_moments = np.zeros(centers.shape[1])\n",
    "    Us = np.zeros(centers.shape[1])\n",
    "    betas = compute_betas(D_max)\n",
    "    etas = compute_cuts(D_max) #basic version\n",
    "\n",
    "    # Estimates the dimension for each center\n",
    "    nn=NearestNeighbors(n_neighbors=k)\n",
    "    nn.fit(centers.T)\n",
    "    indicesknn = nn.kneighbors(dataset.T,return_distance=False)\n",
    "\n",
    "    for ii in range(len(dimensions)):\n",
    "        U, first_moments[ii] = compute_statistic(dataset[:,indicesknn[ii,:]], centers[:,[ii]])\n",
    "        Us[ii] = U\n",
    "\n",
    "        dd = 1\n",
    "        while dd <= len(etas) and U < etas[dd]:\n",
    "            dd+=1\n",
    "        dimensions[ii] = dd\n",
    "\n",
    "        if verbose:\n",
    "            print('Center %d, dimension estimate %d'%(ii, dimensions[ii]))\n",
    "\n",
    "    return dimensions, first_moments,indicesknn, Us"
   ]
  },
  {
   "cell_type": "code",
   "execution_count": 5,
   "metadata": {},
   "outputs": [],
   "source": [
    "data = np.zeros((30,10))\n",
    "data[:,:5] = skdim.gendata.hyperBall(n_points = 30, n_dim = 5, radius = 1, random_state = 0)"
   ]
  },
  {
   "cell_type": "code",
   "execution_count": 141,
   "metadata": {},
   "outputs": [],
   "source": [
    "res2=radovanovic_estimators_matlab(data,k=10)"
   ]
  },
  {
   "cell_type": "code",
   "execution_count": null,
   "metadata": {},
   "outputs": [],
   "source": []
  },
  {
   "cell_type": "code",
   "execution_count": null,
   "metadata": {},
   "outputs": [],
   "source": []
  },
  {
   "cell_type": "code",
   "execution_count": null,
   "metadata": {},
   "outputs": [],
   "source": []
  },
  {
   "cell_type": "code",
   "execution_count": null,
   "metadata": {},
   "outputs": [],
   "source": []
  },
  {
   "cell_type": "code",
   "execution_count": null,
   "metadata": {},
   "outputs": [],
   "source": []
  }
 ],
 "metadata": {
  "kernelspec": {
   "display_name": "Python 3",
   "language": "python",
   "name": "python3"
  },
  "language_info": {
   "codemirror_mode": {
    "name": "ipython",
    "version": 3
   },
   "file_extension": ".py",
   "mimetype": "text/x-python",
   "name": "python",
   "nbconvert_exporter": "python",
   "pygments_lexer": "ipython3",
   "version": "3.7.4"
  }
 },
 "nbformat": 4,
 "nbformat_minor": 4
}
