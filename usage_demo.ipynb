{
 "cells": [
  {
   "cell_type": "code",
   "execution_count": 78,
   "metadata": {},
   "outputs": [],
   "source": [
    "%load_ext rpy2.ipython\n",
    "%load_ext autoreload\n",
    "%autoreload 2\n",
    "#%matplotlib qt"
   ]
  },
  {
   "cell_type": "code",
   "execution_count": 3,
   "metadata": {},
   "outputs": [],
   "source": [
    "from skdim import global_id\n",
    "from skdim import local_id\n",
    "import skdim\n",
    "import multiprocessing as mp\n",
    "import scipy\n",
    "import numpy as np\n",
    "import pandas as pd\n",
    "import rpy2\n",
    "import rpy2.robjects as ro\n",
    "import rpy2.robjects.numpy2ri\n",
    "import rpy2.robjects.packages as rpackages\n",
    "\n",
    "from sklearn.neighbors import NearestNeighbors\n",
    "import sklearn.datasets\n",
    "import matplotlib.pyplot as plt\n",
    "from mpl_toolkits.mplot3d import Axes3D\n",
    "\n",
    "rpy2.robjects.numpy2ri.activate()\n",
    "utils = rpackages.importr('utils')\n",
    "#utils.install_packages('intrinsicDimension')\n",
    "#utils.install_packages('ider')\n",
    "intdimr = rpackages.importr('intrinsicDimension')\n",
    "ider   = rpackages.importr('ider')\n",
    "#r_base = rpackages.importr('base')"
   ]
  },
  {
   "cell_type": "code",
   "execution_count": 4,
   "metadata": {},
   "outputs": [],
   "source": [
    "def compute_betas(max_dim):\n",
    "    #COMPUTE_BETAS Computes betas between one and max_dim. \n",
    "    #   betas = compute_betas( max_dim ) Computes the variance of the angle between two Gaussian\n",
    "    #   vectors in RR^d, it does so for each d between 1 and max_dim.\n",
    "\n",
    "    betas = np.zeros(max_dim-2)\n",
    "    betas[:2] = np.array([np.pi**2/12, np.pi**2/4 - 2])\n",
    "\n",
    "    if (max_dim >= 4):\n",
    "        for ii in range(4,max_dim):\n",
    "            betas[ii-1] = betas[ii-3] - 2/(ii-1)**2\n",
    "\n",
    "    betas = np.concatenate((np.array([pi**2/4]), betas))\n",
    "\n",
    "    return betas[:,None]\n",
    "\n",
    "def compute_cuts(max_dim):\n",
    "    #COMPUTE_CUTS Computes the cuts that define the thresholds to decide between\n",
    "    #   etas = compute_cuts(max_dim) Computes the cuts to decide between any\n",
    "    #   dimension between 1 and max_dim.\n",
    "    betas = compute_betas(max_dim)\n",
    "    etas = np.zeros(len(betas)-1,1)\n",
    "    for ii in range(len(etas)):\n",
    "        etas[ii] = (betas[ii] + betas[ii+1])/2\n",
    "    \n",
    "    return etas"
   ]
  },
  {
   "cell_type": "code",
   "execution_count": 13,
   "metadata": {},
   "outputs": [],
   "source": [
    "data = np.zeros((30,10))\n",
    "data[:,:5] = skdim.gendata.hyperBall(n_points = 30, n_dim = 5, radius = 1, random_state = 0)"
   ]
  },
  {
   "cell_type": "code",
   "execution_count": 92,
   "metadata": {},
   "outputs": [
    {
     "data": {
      "text/plain": [
       "array([2.73873109, 2.1619804 , 2.29577097, 3.13300883, 2.68340134,\n",
       "       2.7744833 , 2.16936429, 2.63976628, 3.73803225, 2.68782875,\n",
       "       3.3468158 , 3.3375878 , 2.58747076, 3.49101585, 2.84130906,\n",
       "       3.68365681, 3.5694458 , 3.50015857, 2.78155042, 4.47995493,\n",
       "       4.0897491 , 3.79781342, 2.62101409, 3.03665971, 2.84263582,\n",
       "       3.82414291, 2.65283788, 3.46869821, 3.851816  , 3.13222988])"
      ]
     },
     "execution_count": 92,
     "metadata": {},
     "output_type": "execute_result"
    }
   ],
   "source": [
    "assert np.allclose(\n",
    "    (skdim.global_id.MLE().fit(data).dimension_,\n",
    "    skdim.global_id.MLE(k=5).fit(data).dimension_,\n",
    "    skdim.global_id.MLE(n = 20, sigma=.1, dnoise='dnoiseGaussH').fit(data).dimension_,\n",
    "    skdim.global_id.MLE(unbiased=True).fit(data).dimension_,\n",
    "    skdim.global_id.MLE(K=10, neighborhood_based=False).fit(data).dimension_,\n",
    "    skdim.global_id.MLE(neighborhood_aggregation='mean').fit(data).dimension_,\n",
    "    ),\n",
    "    (intdimr.maxLikGlobalDimEst(data,k=20)[0][0],\n",
    "    intdimr.maxLikGlobalDimEst(data,k=5)[0][0],\n",
    "    intdimr.maxLikGlobalDimEst(data,k=20,n = 20, sigma=.1, dnoise='dnoiseGaussH')[0][0],\n",
    "    intdimr.maxLikGlobalDimEst(data,k=20,unbiased=True)[0][0],\n",
    "    intdimr.maxLikGlobalDimEst(data,k=20,K=10, neighborhood_based=False)[0][0],\n",
    "    intdimr.maxLikGlobalDimEst(data,k=20,neighborhood_aggregation='mean')[0][0]\n",
    "    )"
   ]
  }
 ],
 "metadata": {
  "kernelspec": {
   "display_name": "Python 3",
   "language": "python",
   "name": "python3"
  },
  "language_info": {
   "codemirror_mode": {
    "name": "ipython",
    "version": 3
   },
   "file_extension": ".py",
   "mimetype": "text/x-python",
   "name": "python",
   "nbconvert_exporter": "python",
   "pygments_lexer": "ipython3",
   "version": "3.7.4"
  }
 },
 "nbformat": 4,
 "nbformat_minor": 4
}
