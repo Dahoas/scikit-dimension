{
 "cells": [
  {
   "cell_type": "code",
   "execution_count": 8,
   "metadata": {},
   "outputs": [],
   "source": [
    "%load_ext rpy2.ipython\n",
    "%load_ext autoreload\n",
    "%autoreload 2\n",
    "#%matplotlib qt"
   ]
  },
  {
   "cell_type": "code",
   "execution_count": 1,
   "metadata": {},
   "outputs": [],
   "source": [
    "from skdim import global_id\n",
    "from skdim import local_id\n",
    "import skdim\n",
    "import multiprocessing as mp\n",
    "import scipy\n",
    "import numpy as np\n",
    "import pandas as pd\n",
    "import rpy2\n",
    "import rpy2.robjects as ro\n",
    "import rpy2.robjects.numpy2ri\n",
    "import rpy2.robjects.packages as rpackages\n",
    "\n",
    "from sklearn.neighbors import NearestNeighbors\n",
    "import sklearn.datasets\n",
    "import matplotlib.pyplot as plt\n",
    "from mpl_toolkits.mplot3d import Axes3D\n",
    "\n",
    "rpy2.robjects.numpy2ri.activate()\n",
    "utils = rpackages.importr('utils')\n",
    "#utils.install_packages('intrinsicDimension')\n",
    "#utils.install_packages('ider')\n",
    "intdimr = rpackages.importr('intrinsicDimension')\n",
    "ider   = rpackages.importr('ider')\n",
    "#r_base = rpackages.importr('base')"
   ]
  },
  {
   "cell_type": "code",
   "execution_count": 213,
   "metadata": {},
   "outputs": [
    {
     "name": "stdout",
     "output_type": "stream",
     "text": [
      "[1] 500   3\n"
     ]
    }
   ],
   "source": [
    "%%R -i n\n",
    "sorted = FALSE\n",
    "line <- cbind(rep(0, 5 * n), rep(0, 5 * n), stats::runif(5 * \n",
    "    n, -0.5, 0))\n",
    "disc <- cbind(matrix(stats::runif(26 * n, -1, 1), ncol = 2), \n",
    "    rep(0, n))\n",
    "disc <- disc[-which(sqrt(rowSums(disc^2)) > 1), ]\n",
    "disc <- disc[, c(1, 3, 2)]\n",
    "disc[, 3] <- disc[, 3] - min(disc[, 3]) + max(line[, \n",
    "    3])\n",
    "fb <- matrix(stats::runif(30 * n * 10, -0.5, 0.5), ncol = 3)\n",
    "rmID <- which(sqrt(rowSums(fb^2)) > 0.5)\n",
    "if (length(rmID) > 0) {\n",
    "    fb <- fb[-which(sqrt(rowSums(fb^2)) > 0.5), ]\n",
    "}\n",
    "fb <- cbind(fb[, 1:2], fb[, 3] + 0.5)\n",
    "fb[, 3] <- fb[, 3] - min(fb[, 3]) + max(disc[, 3])\n",
    "if (sorted) {\n",
    "    fb <- fb[order(fb[, 3]), ]\n",
    "}\n",
    "line2 <- cbind(rep(0, 5 * n), rep(0, 5 * n), stats::runif(5 * \n",
    "    n, -0.5, 0))\n",
    "line2[, 3] <- line2[, 3] - min(line2[, 3]) + max(fb[, \n",
    "    3])\n",
    "lineID <- rep(1, dim(line)[1])\n",
    "discID <- rep(2, dim(disc)[1])\n",
    "fbID <- rep(3, dim(fb)[1])\n",
    "line2ID <- rep(1, dim(line2)[1])\n",
    "x <- rbind(line, disc, fb, line2)\n",
    "useID <- sort(sample(1:dim(x)[1], n))\n",
    "x <- x[useID, ]"
   ]
  },
  {
   "cell_type": "code",
   "execution_count": 205,
   "metadata": {},
   "outputs": [
    {
     "name": "stdout",
     "output_type": "stream",
     "text": [
      "[1] 1035\n"
     ]
    }
   ],
   "source": [
    "%%R\n",
    "length(rowSums(disc))"
   ]
  },
  {
   "cell_type": "code",
   "execution_count": 217,
   "metadata": {},
   "outputs": [],
   "source": [
    "_sorted=False"
   ]
  },
  {
   "cell_type": "code",
   "execution_count": 178,
   "metadata": {},
   "outputs": [
    {
     "data": {
      "text/plain": [
       "<matplotlib.collections.PathCollection at 0x7f291ce05110>"
      ]
     },
     "execution_count": 178,
     "metadata": {},
     "output_type": "execute_result"
    },
    {
     "data": {
      "image/png": "[encoded data removed]",
      "text/plain": [
       "<Figure size 432x288 with 1 Axes>"
      ]
     },
     "metadata": {
      "needs_background": "light"
     },
     "output_type": "display_data"
    }
   ],
   "source": [
    "x=hyperTwinPeaks(100)\n",
    "\n",
    "plt.scatter(*x[:,1:].T)"
   ]
  },
  {
   "cell_type": "code",
   "execution_count": 155,
   "metadata": {
    "collapsed": true,
    "jupyter": {
     "outputs_hidden": true
    }
   },
   "outputs": [
    {
     "data": {
      "text/plain": [
       "\u001b[0;31mSignature:\u001b[0m       \u001b[0mintdimr\u001b[0m\u001b[0;34m.\u001b[0m\u001b[0mtwinPeaks\u001b[0m\u001b[0;34m(\u001b[0m\u001b[0;34m*\u001b[0m\u001b[0margs\u001b[0m\u001b[0;34m,\u001b[0m \u001b[0;34m**\u001b[0m\u001b[0mkwargs\u001b[0m\u001b[0;34m)\u001b[0m\u001b[0;34m\u001b[0m\u001b[0;34m\u001b[0m\u001b[0m\n",
       "\u001b[0;31mType:\u001b[0m            DocumentedSTFunction\n",
       "\u001b[0;31mString form:\u001b[0m    \n",
       "function (Ns, h = 1) \n",
       "hyperTwinPeaks(Ns, 2, h)\n",
       "<bytecode: 0x55ce52832d80>\n",
       "<environment: namespace:intrinsicDimension>\n",
       "\u001b[0;31mFile:\u001b[0m            ~/.local/lib/python3.7/site-packages/rpy2/robjects/functions.py\n",
       "\u001b[0;31mDocstring:\u001b[0m      \n",
       "Python representation of an R function.\n",
       "description\n",
       "-----------\n",
       "\n",
       "\n",
       " Generates data points from a two- or higher-dimensional Twin Peaks manifold.\n",
       " \n",
       "\n",
       "\n",
       "twinPeaks(\n",
       "    Ns,\n",
       "    h = 1.0,\n",
       ")\n",
       "\n",
       "Ns :   number of data points.  ,\n",
       "\n",
       "n :   dimension of the (hyper) plane from which the peaks stand out. For            `twinPeaks` `n` is 2.  ,\n",
       "\n",
       "h :   height of the peaks.  ,\n",
       "\u001b[0;31mClass docstring:\u001b[0m\n",
       "Python representation of an R function, where\n",
       "the names in named argument are translated to valid\n",
       "argument names in Python. \n"
      ]
     },
     "metadata": {},
     "output_type": "display_data"
    }
   ],
   "source": [
    "npoints=5000\n",
    "#n_neighbors=100\n",
    "#n_cores=1\n",
    "\n",
    "#R datasets\n",
    "sShape=np.array(ider.gendata(DataName='SShape',n=npoints))\n",
    "twinPeaks=np.array(intdim.twinPeaks(Ns=npoints))\n",
    "swissRoll3Sph=np.array(intdim.swissRoll3Sph(Ns=npoints,Nsph=npoints))\n",
    "ldbl=np.array(ider.gendata(DataName='ldbl',n=npoints)[0]) \n",
    "\n",
    "#global ID\n",
    "res_sShape = SeparabilityAnalysis(sShape,ProducePlots=0,ConditionalNumber=np.inf)\n",
    "res_twinPeaks = SeparabilityAnalysis(twinPeaks,ProducePlots=0,ConditionalNumber=np.inf)\n",
    "res_swissRoll3Sph = SeparabilityAnalysis(swissRoll3Sph,ProducePlots=0,ConditionalNumber=np.inf)\n",
    "res_ldbl = SeparabilityAnalysis(ldbl,ProducePlots=0,ConditionalNumber=np.inf)\n",
    "for res in [res_sShape,res_twinPeaks,res_swissRoll3Sph,res_ldbl]:\n",
    "    print('estimated global id :',round(res[1][0],2))\n",
    "glob_id_ests = [res_sShape,res_twinPeaks,res_swissRoll3Sph,res_ldbl]\n",
    "\n",
    "#inseparability\n",
    "palphas = []\n",
    "for i in range(4):\n",
    "    n_alpha = glob_id_ests[i][0]\n",
    "    n_single = glob_id_ests[i][1]\n",
    "    p_alpha = glob_id_ests[i][2]\n",
    "    alpha_index = (n_alpha==n_single).tolist().index(True)\n",
    "    palpha_selected = p_alpha[alpha_index,:]\n",
    "    palphas.append(palpha_selected)\n",
    "\n",
    "#pointwise ID\n",
    "pw_res_sShape = asPointwise(data=sShape,\n",
    "                            function=SeparabilityAnalysis,\n",
    "                            params=dict(ProducePlots=0,ConditionalNumber=np.inf),\n",
    "                            n_neighbors=n_neighbors,\n",
    "                            n_cores=n_cores)\n",
    "pw_res_twinPeaks = asPointwise(data=twinPeaks,\n",
    "                            function=SeparabilityAnalysis,\n",
    "                            params=dict(ProducePlots=0,ConditionalNumber=np.inf),\n",
    "                            n_neighbors=n_neighbors,\n",
    "                            n_cores=n_cores)\n",
    "pw_res_swissRoll3Sph = asPointwise(data=swissRoll3Sph,\n",
    "                            function=SeparabilityAnalysis,\n",
    "                            params=dict(ProducePlots=0,ConditionalNumber=np.inf),\n",
    "                            n_neighbors=n_neighbors,\n",
    "                            n_cores=n_cores)\n",
    "pw_res_ldbl = asPointwise(data=ldbl,\n",
    "                            function=SeparabilityAnalysis,\n",
    "                            params=dict(ProducePlots=0,ConditionalNumber=np.inf),\n",
    "                            n_neighbors=n_neighbors,\n",
    "                            n_cores=n_cores)\n",
    "pw_id_ests = [pw_res_sShape,pw_res_twinPeaks,pw_res_swissRoll3Sph,pw_res_ldbl]"
   ]
  },
  {
   "cell_type": "code",
   "execution_count": 153,
   "metadata": {},
   "outputs": [],
   "source": [
    "def randsphere(npoints, ndim=3):\n",
    "    \"\"\"\n",
    "    Generates a sample from a uniform distribution on an hypersphere surface\n",
    "    \"\"\"\n",
    "    vec = np.random.randn(npoints, ndim)\n",
    "    vec /= np.linalg.norm(vec, axis=1)[:,None]\n",
    "    return vec\n",
    "\n",
    "def hyperTwinPeaks(Ns, n = 2, h = 1):\n",
    "    \"\"\" \n",
    "    Translated from Kerstin Johnsson's R package intrinsicDimension\n",
    "    \"\"\"\n",
    "    base_coord = np.random.uniform(size=(Ns, n))\n",
    "    height = h * np.prod(np.sin(2 * np.pi * base_coord),axis=1,keepdims=1)\n",
    "    return np.hstack((base_coord, height))\n",
    "\n",
    "def swissRoll3Sph(Ns, Nsph, a = 1, b = 2, nturn = 1.5, h = 4):\n",
    "    '''\n",
    "    Generates a sample from a uniform distribution on a Swiss roll-surface, \n",
    "    possibly together with a sample from a uniform distribution on a 3-sphere\n",
    "    inside the Swiss roll. Translated from Kerstin Johnsson's R package intrinsicDimension\n",
    "\n",
    "    Parameters\n",
    "    ----------\n",
    "\n",
    "    Ns : int \n",
    "        Number of data points on the Swiss roll.\n",
    "\n",
    "    Nsph : int\n",
    "        Number of data points on the 3-sphere.\n",
    "\n",
    "    a : int or float, default=1\n",
    "        Minimal radius of Swiss roll and radius of 3-sphere.\n",
    "\n",
    "    b : int or float, default=2\n",
    "        Maximal radius of Swiss roll.\n",
    "\n",
    "    nturn : int or float, default=1.5\n",
    "        Number of turns of the surface. \n",
    "\n",
    "    h : int or float, default=4\n",
    "        Height of Swiss roll.\n",
    "\n",
    "    Returns\n",
    "    -------\n",
    "    \n",
    "    np.array, (npoints x ndim)\n",
    "    '''\n",
    "    \n",
    "    if Ns > 0:\n",
    "        omega = 2 * np.pi * nturn\n",
    "        dl = lambda r: np.sqrt(b**2 + omega**2 * (a + b * r)**2)\n",
    "        ok = np.zeros(1)\n",
    "        while sum(ok) < Ns:\n",
    "            r_samp = np.random.uniform(size = 3 * Ns)\n",
    "            ok = np.random.uniform(size = 3 * Ns) < dl(r_samp)/dl(1)\n",
    "\n",
    "        r_samp = r_samp[ok][:Ns]\n",
    "        x = (a + b * r_samp) * np.cos(omega * r_samp)\n",
    "        y = (a + b * r_samp) * np.sin(omega * r_samp)\n",
    "        z = np.random.uniform(-h, h, size = Ns)\n",
    "        w = np.zeros(Ns)\n",
    "\n",
    "    else:\n",
    "        x = y = z = w = np.array([])\n",
    "\n",
    "    if Nsph > 0:\n",
    "        sph = randsphere(Nsph, 4) * a\n",
    "        x = np.concatenate((x, sph[:, 0]))\n",
    "        y = np.concatenate((y, sph[:, 1]))\n",
    "        z = np.concatenate((z, sph[:, 2]))\n",
    "        w = np.concatenate((w, sph[:, 3]))\n",
    "    \n",
    "    return np.hstack((x[:,None], y[:,None], z[:,None], w[:,None]))\n",
    "\n",
    "def ldbl(n):\n",
    "    line = np.hstack((np.repeat(0, 5 * n)[:,None], np.repeat(0, 5 * n)[:,None], np.random.uniform(-0.5, 0,size=5 * n)[:,None]))\n",
    "    disc = np.hstack((np.random.uniform(-1, 1,(13 * n,2)), np.zeros(13 * n)[:,None]))\n",
    "    disc = disc[~(np.sqrt(np.sum(disc**2,axis=1)) > 1),:]\n",
    "    disc = disc[:, [0, 2, 1]]\n",
    "    disc[:, 2] = disc[:, 2] - min(disc[:, 2]) + max(line[:, 2])\n",
    "\n",
    "    fb = np.random.uniform(-0.5, 0.5,size=(n * 100,3))\n",
    "    rmID = np.where(np.sqrt(np.sum(fb**2,axis=1)) > 0.5)[0]\n",
    "\n",
    "    if len(rmID) > 0:\n",
    "        fb = fb[~(np.sqrt(np.sum(fb**2,axis=1)) > 0.5),:]\n",
    "\n",
    "    fb = np.hstack((fb[:,:2], fb[:, [2]] + 0.5))\n",
    "    fb[:, 2] = fb[:, 2] - min(fb[:, 2]) + max(disc[:, 2])\n",
    "\n",
    "    if _sorted:\n",
    "        fb = fb[order(fb[:, 2]),:]\n",
    "\n",
    "    line2 = np.hstack((np.repeat(0, 5 * n)[:,None], np.repeat(0, 5 * n)[:,None], np.random.uniform(-0.5, 0,size=5 * n)[:,None]))\n",
    "    line2[:, 2] = line2[:, 2] - min(line2[:, 2]) + max(fb[:, 2])\n",
    "    lineID = np.repeat(1, len(line))\n",
    "    discID = np.repeat(2, len(disc))\n",
    "    fbID = np.repeat(3, len(fb))\n",
    "    line2ID = np.repeat(1, len(line2))\n",
    "    x = np.vstack((line, disc, fb, line2))\n",
    "    useID = np.sort(np.random.choice(len(x), n,replace=False))\n",
    "    x = x[useID,:]\n",
    "\n",
    "    return x, np.concatenate((lineID, discID, fbID, line2ID),axis=0)[useID]"
   ]
  },
  {
   "cell_type": "code",
   "execution_count": 115,
   "metadata": {},
   "outputs": [],
   "source": [
    "data = np.zeros((30,10))\n",
    "data[:,:5] = skdim.randball(n_points = 30, n_dim = 5, radius = 1, random_state = 0)"
   ]
  },
  {
   "cell_type": "code",
   "execution_count": 3,
   "metadata": {
    "collapsed": true,
    "jupyter": {
     "outputs_hidden": true
    }
   },
   "outputs": [
    {
     "data": {
      "text/plain": [
       "\u001b[0;31mSignature:\u001b[0m       \u001b[0mider\u001b[0m\u001b[0;34m.\u001b[0m\u001b[0mmada\u001b[0m\u001b[0;34m(\u001b[0m\u001b[0;34m*\u001b[0m\u001b[0margs\u001b[0m\u001b[0;34m,\u001b[0m \u001b[0;34m**\u001b[0m\u001b[0mkwargs\u001b[0m\u001b[0;34m)\u001b[0m\u001b[0;34m\u001b[0m\u001b[0;34m\u001b[0m\u001b[0m\n",
       "\u001b[0;31mType:\u001b[0m            DocumentedSTFunction\n",
       "\u001b[0;31mString form:\u001b[0m    \n",
       "function (x, k = NULL, comb = \"average\", DM = FALSE, local = FALSE,\n",
       "           maxDim = 5)\n",
       "           {\n",
       "           if (i <...> (table(ests))))\n",
       "           }\n",
       "           return(est)\n",
       "           }\n",
       "           <bytecode: 0x55ff86bcfe48>\n",
       "           <environment: namespace:ider>\n",
       "           \n",
       "\u001b[0;31mFile:\u001b[0m            ~/.local/lib/python3.7/site-packages/rpy2/robjects/functions.py\n",
       "\u001b[0;31mDocstring:\u001b[0m      \n",
       "Python representation of an R function.\n",
       "description\n",
       "-----------\n",
       "\n",
       "\n",
       " mada  estimates local information dimension of given dataset based on \n",
       " the first order expansion of probability mass function.\n",
       " \n",
       "\n",
       "\n",
       "mada(\n",
       "    x,\n",
       "    k = rinterface.NULL,\n",
       "    comb = average,\n",
       "    DM = False,\n",
       "    local = False,\n",
       "    maxDim = 5.0,\n",
       ")\n",
       "\n",
       "x :  data matrix or distance matrix given by as.matrix(dist(x)). ,\n",
       "\n",
       "k :  k-NN parameter. ,\n",
       "\n",
       "comb :  'average', 'median' or 'vote' for combining local estimates when global estimate is required. ,\n",
       "\n",
       "DM :  whether `'x'` is distance matrix or not. logical. ,\n",
       "\n",
       "local :  logical. If `TRUE`, a vector of local dimensions at each sample point is returned. ,\n",
       "\n",
       "maxDim :  maximum of the candidate dimensions. ,\n",
       "\u001b[0;31mClass docstring:\u001b[0m\n",
       "Python representation of an R function, where\n",
       "the names in named argument are translated to valid\n",
       "argument names in Python. \n"
      ]
     },
     "metadata": {},
     "output_type": "display_data"
    }
   ],
   "source": [
    "ider.mada?"
   ]
  }
 ],
 "metadata": {
  "kernelspec": {
   "display_name": "Python 3",
   "language": "python",
   "name": "python3"
  },
  "language_info": {
   "codemirror_mode": {
    "name": "ipython",
    "version": 3
   },
   "file_extension": ".py",
   "mimetype": "text/x-python",
   "name": "python",
   "nbconvert_exporter": "python",
   "pygments_lexer": "ipython3",
   "version": "3.7.4"
  }
 },
 "nbformat": 4,
 "nbformat_minor": 4
}
