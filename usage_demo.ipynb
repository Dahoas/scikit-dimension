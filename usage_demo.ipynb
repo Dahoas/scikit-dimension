{
 "cells": [
  {
   "cell_type": "code",
   "execution_count": 1,
   "metadata": {},
   "outputs": [],
   "source": [
    "%load_ext rpy2.ipython\n",
    "%load_ext autoreload\n",
    "%autoreload 2\n",
    "#%matplotlib qt"
   ]
  },
  {
   "cell_type": "code",
   "execution_count": 2,
   "metadata": {},
   "outputs": [],
   "source": [
    "from skdim import global_id\n",
    "from skdim import local_id\n",
    "import skdim\n",
    "import multiprocessing as mp\n",
    "import scipy\n",
    "import numpy as np\n",
    "import pandas as pd\n",
    "import rpy2\n",
    "import rpy2.robjects as ro\n",
    "import rpy2.robjects.numpy2ri\n",
    "import rpy2.robjects.packages as rpackages\n",
    "\n",
    "from sklearn.neighbors import NearestNeighbors\n",
    "import sklearn.datasets\n",
    "import matplotlib.pyplot as plt\n",
    "from mpl_toolkits.mplot3d import Axes3D\n",
    "\n",
    "rpy2.robjects.numpy2ri.activate()\n",
    "utils = rpackages.importr('utils')\n",
    "#utils.install_packages('intrinsicDimension')\n",
    "#utils.install_packages('ider')\n",
    "intdimr = rpackages.importr('intrinsicDimension')\n",
    "ider   = rpackages.importr('ider')\n",
    "#r_base = rpackages.importr('base')\n",
    "\n",
    "import sys\n",
    "sys.path.append('/home/utilisateur/id-concentration/')\n",
    "from estimators import *"
   ]
  },
  {
   "cell_type": "code",
   "execution_count": 3,
   "metadata": {},
   "outputs": [],
   "source": [
    "def compute_betas(max_dim):\n",
    "    #COMPUTE_BETAS Computes betas between one and max_dim. \n",
    "    #   betas = compute_betas( max_dim ) Computes the variance of the angle between two Gaussian\n",
    "    #   vectors in RR^d, it does so for each d between 1 and max_dim.\n",
    "\n",
    "    betas = np.zeros(max_dim-2)\n",
    "    betas[:2] = np.array([np.pi**2/12, np.pi**2/4 - 2])\n",
    "\n",
    "    if (max_dim >= 4):\n",
    "        for ii in range(4,max_dim):\n",
    "            betas[ii-1] = betas[ii-3] - 2/(ii-1)**2\n",
    "\n",
    "    betas = np.concatenate((np.array([pi**2/4]), betas))\n",
    "\n",
    "    return betas[:,None]\n",
    "\n",
    "def compute_cuts(max_dim):\n",
    "    #COMPUTE_CUTS Computes the cuts that define the thresholds to decide between\n",
    "    #   etas = compute_cuts(max_dim) Computes the cuts to decide between any\n",
    "    #   dimension between 1 and max_dim.\n",
    "    betas = compute_betas(max_dim)\n",
    "    etas = np.zeros((len(betas)-1,1))\n",
    "    for ii in range(len(etas)):\n",
    "        etas[ii] = (betas[ii] + betas[ii+1])/2\n",
    "    \n",
    "    return etas"
   ]
  },
  {
   "cell_type": "code",
   "execution_count": 5,
   "metadata": {},
   "outputs": [],
   "source": [
    "data = np.zeros((30,10))\n",
    "data[:,:5] = skdim.gendata.hyperBall(n_points = 30, n_dim = 5, radius = 1, random_state = 0)"
   ]
  },
  {
   "cell_type": "code",
   "execution_count": 141,
   "metadata": {},
   "outputs": [],
   "source": [
    "res2=radovanovic_estimators_matlab(data,k=10)"
   ]
  }
 ],
 "metadata": {
  "kernelspec": {
   "display_name": "Python 3",
   "language": "python",
   "name": "python3"
  },
  "language_info": {
   "codemirror_mode": {
    "name": "ipython",
    "version": 3
   },
   "file_extension": ".py",
   "mimetype": "text/x-python",
   "name": "python",
   "nbconvert_exporter": "python",
   "pygments_lexer": "ipython3",
   "version": "3.7.4"
  }
 },
 "nbformat": 4,
 "nbformat_minor": 4
}
